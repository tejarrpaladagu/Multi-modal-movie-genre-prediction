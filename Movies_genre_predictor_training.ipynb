{
  "nbformat": 4,
  "nbformat_minor": 0,
  "metadata": {
    "colab": {
      "name": "Movies_genre_predictor_training",
      "provenance": [],
      "collapsed_sections": [],
      "machine_shape": "hm"
    },
    "kernelspec": {
      "name": "python3",
      "display_name": "Python 3"
    },
    "accelerator": "GPU"
  },
  "cells": [
    {
      "cell_type": "markdown",
      "metadata": {
        "id": "KowdvyGp17bt",
        "colab_type": "text"
      },
      "source": [
        "# **Movie genre prediction using multi-modal deep learning.**\n",
        "In this notebook, I try to predict movie genres based on the movie's poster and its overview. The dataset used is Kaggle's rounakbanik/the-movies-dataset. Posters for each film were obtained using the TMDB API and were saved as a normalized numpy array with each element of the array corresponding to a movie. The model used takes the poster as one input along with the overview as another input. The poster in input to a CNN while the overview is input to an LSTM. The output of each network is concatenated. The final fully connected layer consisted of 18 sigmoid output units. Each unit carries the probability of a movie belonging to a particular genre.\n",
        "\n",
        "This notebook contains a Keras and PyTorch implementation. Keras was primarily used for a baseline model which was then improved using pytorch."
      ]
    },
    {
      "cell_type": "code",
      "metadata": {
        "id": "i6bMHMzYKD9L",
        "colab_type": "code",
        "outputId": "fbbc3db1-89a9-4ac2-cf0a-fb322e265b35",
        "colab": {
          "base_uri": "https://localhost:8080/",
          "height": 124
        }
      },
      "source": [
        "from google.colab import drive\n",
        "drive.mount('/content/drive')"
      ],
      "execution_count": 0,
      "outputs": [
        {
          "output_type": "stream",
          "text": [
            "Go to this URL in a browser: https://accounts.google.com/o/oauth2/auth?client_id=947318989803-6bn6qk8qdgf4n4g3pfee6491hc0brc4i.apps.googleusercontent.com&redirect_uri=urn%3aietf%3awg%3aoauth%3a2.0%3aoob&response_type=code&scope=email%20https%3a%2f%2fwww.googleapis.com%2fauth%2fdocs.test%20https%3a%2f%2fwww.googleapis.com%2fauth%2fdrive%20https%3a%2f%2fwww.googleapis.com%2fauth%2fdrive.photos.readonly%20https%3a%2f%2fwww.googleapis.com%2fauth%2fpeopleapi.readonly\n",
            "\n",
            "Enter your authorization code:\n",
            "··········\n",
            "Mounted at /content/drive\n"
          ],
          "name": "stdout"
        }
      ]
    },
    {
      "cell_type": "code",
      "metadata": {
        "id": "wRZ8yMwgI3Zc",
        "colab_type": "code",
        "outputId": "0a86eae4-fb6b-4283-8910-4a0ca04758db",
        "colab": {
          "base_uri": "https://localhost:8080/",
          "height": 208
        }
      },
      "source": [
        "!wget -c \"https://s3.amazonaws.com/dl4j-distribution/GoogleNews-vectors-negative300.bin.gz\""
      ],
      "execution_count": 0,
      "outputs": [
        {
          "output_type": "stream",
          "text": [
            "--2020-05-18 05:48:40--  https://s3.amazonaws.com/dl4j-distribution/GoogleNews-vectors-negative300.bin.gz\n",
            "Resolving s3.amazonaws.com (s3.amazonaws.com)... 52.216.239.77\n",
            "Connecting to s3.amazonaws.com (s3.amazonaws.com)|52.216.239.77|:443... connected.\n",
            "HTTP request sent, awaiting response... 200 OK\n",
            "Length: 1647046227 (1.5G) [application/x-gzip]\n",
            "Saving to: ‘GoogleNews-vectors-negative300.bin.gz’\n",
            "\n",
            "GoogleNews-vectors- 100%[===================>]   1.53G  45.4MB/s    in 35s     \n",
            "\n",
            "2020-05-18 05:49:15 (45.0 MB/s) - ‘GoogleNews-vectors-negative300.bin.gz’ saved [1647046227/1647046227]\n",
            "\n"
          ],
          "name": "stdout"
        }
      ]
    },
    {
      "cell_type": "code",
      "metadata": {
        "id": "Y2FxxpH3I8iI",
        "colab_type": "code",
        "colab": {}
      },
      "source": [
        "!gunzip /content/GoogleNews-vectors-negative300.bin.gz"
      ],
      "execution_count": 0,
      "outputs": []
    },
    {
      "cell_type": "code",
      "metadata": {
        "id": "JGJeqA70cJfw",
        "colab_type": "code",
        "outputId": "d60b6dda-16e8-46a5-e572-e025c7643580",
        "colab": {
          "base_uri": "https://localhost:8080/",
          "height": 176
        }
      },
      "source": [
        "import pandas as pd\n",
        "import numpy as np\n",
        "import pickle\n",
        "import re\n",
        "import nltk\n",
        "nltk.download('stopwords')\n",
        "nltk.download('punkt')\n",
        "nltk.download('wordnet')\n",
        "from nltk.corpus import stopwords\n",
        "from nltk.stem import WordNetLemmatizer \n",
        "from nltk.tokenize import word_tokenize \n",
        "import matplotlib.pyplot as plt\n",
        "import seaborn as sns\n",
        "import matplotlib.style as style\n",
        "import ast\n",
        "from sklearn.preprocessing import MultiLabelBinarizer\n",
        "from string import punctuation\n",
        "from gensim.models import KeyedVectors"
      ],
      "execution_count": 0,
      "outputs": [
        {
          "output_type": "stream",
          "text": [
            "[nltk_data] Downloading package stopwords to /root/nltk_data...\n",
            "[nltk_data]   Unzipping corpora/stopwords.zip.\n",
            "[nltk_data] Downloading package punkt to /root/nltk_data...\n",
            "[nltk_data]   Unzipping tokenizers/punkt.zip.\n",
            "[nltk_data] Downloading package wordnet to /root/nltk_data...\n",
            "[nltk_data]   Unzipping corpora/wordnet.zip.\n"
          ],
          "name": "stdout"
        },
        {
          "output_type": "stream",
          "text": [
            "/usr/local/lib/python3.6/dist-packages/statsmodels/tools/_testing.py:19: FutureWarning: pandas.util.testing is deprecated. Use the functions in the public API at pandas.testing instead.\n",
            "  import pandas.util.testing as tm\n"
          ],
          "name": "stderr"
        }
      ]
    },
    {
      "cell_type": "markdown",
      "metadata": {
        "id": "7XwvL58ZRVt_",
        "colab_type": "text"
      },
      "source": [
        "Importing evaluation metrics"
      ]
    },
    {
      "cell_type": "code",
      "metadata": {
        "id": "HU4HlgcRREAQ",
        "colab_type": "code",
        "colab": {}
      },
      "source": [
        "from sklearn.metrics import hamming_loss\n",
        "from sklearn.metrics import accuracy_score\n",
        "from sklearn.metrics import confusion_matrix\n",
        "from sklearn.metrics import precision_score\n",
        "from sklearn.metrics import recall_score\n",
        "from sklearn.metrics import f1_score\n",
        "from sklearn.metrics import roc_auc_score"
      ],
      "execution_count": 0,
      "outputs": []
    },
    {
      "cell_type": "code",
      "metadata": {
        "id": "tD5m-Y1_cQfS",
        "colab_type": "code",
        "colab": {}
      },
      "source": [
        "style.use('seaborn-poster')\n",
        "style.use('ggplot')"
      ],
      "execution_count": 0,
      "outputs": []
    },
    {
      "cell_type": "code",
      "metadata": {
        "id": "FP1V-v5XoIfF",
        "colab_type": "code",
        "outputId": "d553b4b6-4b31-438a-ec4f-b210a5326605",
        "colab": {
          "base_uri": "https://localhost:8080/",
          "height": 35
        }
      },
      "source": [
        "with open('/content/drive/My Drive/Movie_genre_prediction_dataset/train_np_imgs_norm','rb') as f: X_img_train = pickle.load(f)\n",
        "X_img_train.shape"
      ],
      "execution_count": 0,
      "outputs": [
        {
          "output_type": "execute_result",
          "data": {
            "text/plain": [
              "(26864, 115, 75, 3)"
            ]
          },
          "metadata": {
            "tags": []
          },
          "execution_count": 5
        }
      ]
    },
    {
      "cell_type": "markdown",
      "metadata": {
        "id": "ntki4uEi5Agz",
        "colab_type": "text"
      },
      "source": [
        "### Loading the image numpy arrays for the train, validation and test set."
      ]
    },
    {
      "cell_type": "code",
      "metadata": {
        "id": "ZUiBzbpSoNW_",
        "colab_type": "code",
        "outputId": "c0a906bb-5820-422b-dd6b-f22ed875150c",
        "colab": {
          "base_uri": "https://localhost:8080/",
          "height": 35
        }
      },
      "source": [
        "with open('/content/drive/My Drive/Movie_genre_prediction_dataset/test_np_imgs_norm', 'rb') as f: X_img_test = pickle.load(f)\n",
        "X_img_test.shape"
      ],
      "execution_count": 0,
      "outputs": [
        {
          "output_type": "execute_result",
          "data": {
            "text/plain": [
              "(7463, 115, 75, 3)"
            ]
          },
          "metadata": {
            "tags": []
          },
          "execution_count": 6
        }
      ]
    },
    {
      "cell_type": "code",
      "metadata": {
        "id": "K7RGw7HcoQMp",
        "colab_type": "code",
        "outputId": "b1bed963-fbce-42fd-cc10-4a7b96b3c518",
        "colab": {
          "base_uri": "https://localhost:8080/",
          "height": 35
        }
      },
      "source": [
        "with open('/content/drive/My Drive/Movie_genre_prediction_dataset/val_np_imgs_norm', 'rb') as f: X_img_val = pickle.load(f)\n",
        "X_img_val.shape"
      ],
      "execution_count": 0,
      "outputs": [
        {
          "output_type": "execute_result",
          "data": {
            "text/plain": [
              "(2986, 115, 75, 3)"
            ]
          },
          "metadata": {
            "tags": []
          },
          "execution_count": 7
        }
      ]
    },
    {
      "cell_type": "markdown",
      "metadata": {
        "id": "F4-KZSUkGbyY",
        "colab_type": "text"
      },
      "source": [
        "### Loading the overall dataset and the train, test and validation datasets."
      ]
    },
    {
      "cell_type": "code",
      "metadata": {
        "id": "VBHn8XVNcz2w",
        "colab_type": "code",
        "colab": {}
      },
      "source": [
        "dataset = pd.read_csv(\"/content/drive/My Drive/Movie_genre_prediction_dataset/dataset_mod.csv\")\n",
        "train = pd.read_csv(\"/content/drive/My Drive/Movie_genre_prediction_dataset/train_data.csv\")\n",
        "test = pd.read_csv(\"/content/drive/My Drive/Movie_genre_prediction_dataset/test_data.csv\")\n",
        "val = pd.read_csv(\"/content/drive/My Drive/Movie_genre_prediction_dataset/val_data.csv\")"
      ],
      "execution_count": 0,
      "outputs": []
    },
    {
      "cell_type": "markdown",
      "metadata": {
        "id": "qSnmZbtYGvuv",
        "colab_type": "text"
      },
      "source": [
        "Converting each cell of the genre list column into a list."
      ]
    },
    {
      "cell_type": "code",
      "metadata": {
        "id": "JG2uJnbjdKYB",
        "colab_type": "code",
        "colab": {}
      },
      "source": [
        "dataset['genre_list'] = dataset['genre_list'].apply(lambda x: ast.literal_eval(x))\n",
        "train['genre_list'] = train['genre_list'].apply(lambda x: ast.literal_eval(x))\n",
        "test['genre_list'] = test['genre_list'].apply(lambda x: ast.literal_eval(x))\n",
        "val['genre_list'] = val['genre_list'].apply(lambda x: ast.literal_eval(x))"
      ],
      "execution_count": 0,
      "outputs": []
    },
    {
      "cell_type": "markdown",
      "metadata": {
        "id": "LlpZ01lOG-B0",
        "colab_type": "text"
      },
      "source": [
        "Evaluating the number of labels per movie in the test, train and validation dataset."
      ]
    },
    {
      "cell_type": "code",
      "metadata": {
        "id": "BXhHL_TU2yIk",
        "colab_type": "code",
        "outputId": "b9a4c6f9-aafe-4a15-ceb5-a9a4475bbd0f",
        "colab": {
          "base_uri": "https://localhost:8080/",
          "height": 35
        }
      },
      "source": [
        "labels = {}\n",
        "\n",
        "for genre in test['genre_list']:\n",
        "  if len(genre) in labels:\n",
        "    labels[len(genre)] += 1\n",
        "  else:\n",
        "    labels[len(genre)] = 1\n",
        "\n",
        "labels"
      ],
      "execution_count": 0,
      "outputs": [
        {
          "output_type": "execute_result",
          "data": {
            "text/plain": [
              "{1: 2533, 2: 2548, 3: 1668, 4: 552, 5: 141, 6: 18, 7: 3}"
            ]
          },
          "metadata": {
            "tags": []
          },
          "execution_count": 20
        }
      ]
    },
    {
      "cell_type": "code",
      "metadata": {
        "id": "3Q4SGh0XWKwY",
        "colab_type": "code",
        "outputId": "6e970758-8109-4aaf-95f0-aea5141731d8",
        "colab": {
          "base_uri": "https://localhost:8080/",
          "height": 35
        }
      },
      "source": [
        "labels = {}\n",
        "\n",
        "for genre in train['genre_list']:\n",
        "  if len(genre) in labels:\n",
        "    labels[len(genre)] += 1\n",
        "  else:\n",
        "    labels[len(genre)] = 1\n",
        "\n",
        "labels"
      ],
      "execution_count": 0,
      "outputs": [
        {
          "output_type": "execute_result",
          "data": {
            "text/plain": [
              "{1: 8909, 2: 9111, 3: 6158, 4: 2083, 5: 486, 6: 103, 7: 12, 8: 2}"
            ]
          },
          "metadata": {
            "tags": []
          },
          "execution_count": 21
        }
      ]
    },
    {
      "cell_type": "code",
      "metadata": {
        "id": "HSrnSsudWMN2",
        "colab_type": "code",
        "outputId": "bf02b176-0d7b-4026-e8b0-44ba5d4d5544",
        "colab": {
          "base_uri": "https://localhost:8080/",
          "height": 35
        }
      },
      "source": [
        "labels = {}\n",
        "\n",
        "for genre in val['genre_list']:\n",
        "  if len(genre) in labels:\n",
        "    labels[len(genre)] += 1\n",
        "  else:\n",
        "    labels[len(genre)] = 1\n",
        "\n",
        "labels"
      ],
      "execution_count": 0,
      "outputs": [
        {
          "output_type": "execute_result",
          "data": {
            "text/plain": [
              "{1: 986, 2: 1021, 3: 686, 4: 234, 5: 48, 6: 11}"
            ]
          },
          "metadata": {
            "tags": []
          },
          "execution_count": 22
        }
      ]
    },
    {
      "cell_type": "markdown",
      "metadata": {
        "id": "zENvYnx1HwOO",
        "colab_type": "text"
      },
      "source": [
        "### Label generation\n",
        "Using scikit-learn's Mutltilabel Binarizer to generate one-hot encoded vectors. There are a total of 18 classes and each label is associated with an array index."
      ]
    },
    {
      "cell_type": "code",
      "metadata": {
        "id": "Zv8MluyscvD9",
        "colab_type": "code",
        "outputId": "b1bad788-fd5c-43f1-db5c-c9794b0bb318",
        "colab": {
          "base_uri": "https://localhost:8080/",
          "height": 87
        }
      },
      "source": [
        "mlb = MultiLabelBinarizer()\n",
        "mlb.fit(dataset['genre_list'].tolist())\n",
        "mlb.classes_"
      ],
      "execution_count": 0,
      "outputs": [
        {
          "output_type": "execute_result",
          "data": {
            "text/plain": [
              "array(['Action', 'Adventure', 'Animation', 'Comedy', 'Crime',\n",
              "       'Documentary', 'Drama', 'Family', 'Fantasy', 'History', 'Horror',\n",
              "       'Music', 'Mystery', 'Romance', 'Science Fiction', 'Thriller',\n",
              "       'War', 'Western'], dtype=object)"
            ]
          },
          "metadata": {
            "tags": []
          },
          "execution_count": 11
        }
      ]
    },
    {
      "cell_type": "code",
      "metadata": {
        "id": "xbtFVzxEcyDA",
        "colab_type": "code",
        "outputId": "ee37d94e-f17c-45b7-edf6-774bb98f57e5",
        "colab": {
          "base_uri": "https://localhost:8080/",
          "height": 35
        }
      },
      "source": [
        "transformed_labels = mlb.fit_transform(dataset['genre_list'].tolist())\n",
        "transformed_labels.shape"
      ],
      "execution_count": 0,
      "outputs": [
        {
          "output_type": "execute_result",
          "data": {
            "text/plain": [
              "(37321, 18)"
            ]
          },
          "metadata": {
            "tags": []
          },
          "execution_count": 12
        }
      ]
    },
    {
      "cell_type": "code",
      "metadata": {
        "id": "DYS6ldBkeC9f",
        "colab_type": "code",
        "outputId": "b94876d7-2ec4-4c47-d740-0e13a6600785",
        "colab": {
          "base_uri": "https://localhost:8080/",
          "height": 35
        }
      },
      "source": [
        "train_labels = mlb.transform(train['genre_list'].tolist())\n",
        "train_labels.shape"
      ],
      "execution_count": 0,
      "outputs": [
        {
          "output_type": "execute_result",
          "data": {
            "text/plain": [
              "(26864, 18)"
            ]
          },
          "metadata": {
            "tags": []
          },
          "execution_count": 13
        }
      ]
    },
    {
      "cell_type": "code",
      "metadata": {
        "id": "-8WOpn7ieKF8",
        "colab_type": "code",
        "outputId": "ac0aa594-8ea0-4f9d-dae0-5821ed6e10ea",
        "colab": {
          "base_uri": "https://localhost:8080/",
          "height": 35
        }
      },
      "source": [
        "test_labels = mlb.transform(test['genre_list'].tolist())\n",
        "test_labels.shape"
      ],
      "execution_count": 0,
      "outputs": [
        {
          "output_type": "execute_result",
          "data": {
            "text/plain": [
              "(7463, 18)"
            ]
          },
          "metadata": {
            "tags": []
          },
          "execution_count": 14
        }
      ]
    },
    {
      "cell_type": "code",
      "metadata": {
        "id": "G4AeewfBeNOC",
        "colab_type": "code",
        "outputId": "0c553762-14cc-4753-93da-04e77a71b4d8",
        "colab": {
          "base_uri": "https://localhost:8080/",
          "height": 35
        }
      },
      "source": [
        "val_labels = mlb.transform(val['genre_list'].tolist())\n",
        "val_labels.shape"
      ],
      "execution_count": 0,
      "outputs": [
        {
          "output_type": "execute_result",
          "data": {
            "text/plain": [
              "(2986, 18)"
            ]
          },
          "metadata": {
            "tags": []
          },
          "execution_count": 15
        }
      ]
    },
    {
      "cell_type": "markdown",
      "metadata": {
        "id": "EtHds4_LIp3Y",
        "colab_type": "text"
      },
      "source": [
        "### Text cleaning\n",
        "Cleaning the overview of the movies involved getting rid of punctuation, lowering each word, removal of non-alphabetic words and lemmatization."
      ]
    },
    {
      "cell_type": "code",
      "metadata": {
        "id": "PCy4O5utiqdV",
        "colab_type": "code",
        "colab": {}
      },
      "source": [
        "stop = stopwords.words('english')\n",
        "lemmatizer = WordNetLemmatizer()\n",
        "\n",
        "def clean_text(text):\n",
        "  text = text.translate(str.maketrans('', '', punctuation))\n",
        "  text = text.lower().strip()\n",
        "  text = ' '.join([i if i not in stop and i.isalpha() else '' for i in text.lower().split()])\n",
        "  text = ' '.join([lemmatizer.lemmatize(w) for w in word_tokenize(text)])\n",
        "  text = re.sub(r\"\\s{2,}\", \" \", text)\n",
        "  return text\n",
        "\n",
        "train['overview'] = train['overview'].astype(str)\n",
        "test['overview'] = test['overview'].astype(str)\n",
        "val['overview'] = val['overview'].astype(str)\n",
        "\n",
        "train['overview'] = train['overview'].apply(lambda text: clean_text(text))\n",
        "test['overview'] = test['overview'].apply(lambda text: clean_text(text))\n",
        "val['overview'] = val['overview'].apply(lambda text: clean_text(text))"
      ],
      "execution_count": 0,
      "outputs": []
    },
    {
      "cell_type": "code",
      "metadata": {
        "id": "cj9zshXSkyo0",
        "colab_type": "code",
        "colab": {}
      },
      "source": [
        "dataset['overview'] = dataset['overview'].astype(str)\n",
        "dataset['overview'] = dataset['overview'].apply(lambda text: clean_text(text))"
      ],
      "execution_count": 0,
      "outputs": []
    },
    {
      "cell_type": "markdown",
      "metadata": {
        "id": "fm_oUQo2JcP0",
        "colab_type": "text"
      },
      "source": [
        "### The Keras implmentation of the model"
      ]
    },
    {
      "cell_type": "code",
      "metadata": {
        "id": "VSr_1NX1lH1V",
        "colab_type": "code",
        "outputId": "3d843eeb-75b1-4584-efc1-f1ad7f95ec86",
        "colab": {
          "base_uri": "https://localhost:8080/",
          "height": 35
        }
      },
      "source": [
        "from keras.preprocessing.text import Tokenizer\n",
        "from keras.preprocessing.sequence import pad_sequences\n",
        "from keras.models import Model, load_model\n",
        "from keras.layers import Embedding, LSTM, Dropout, Dense, Input, Bidirectional, Flatten, Conv2D, MaxPooling2D, concatenate, Conv1D, MaxPooling1D\n",
        "import keras.backend as K\n",
        "from keras.optimizers import Adam, RMSprop\n",
        "from keras.callbacks import ModelCheckpoint, CSVLogger, EarlyStopping"
      ],
      "execution_count": 0,
      "outputs": [
        {
          "output_type": "stream",
          "text": [
            "Using TensorFlow backend.\n"
          ],
          "name": "stderr"
        }
      ]
    },
    {
      "cell_type": "markdown",
      "metadata": {
        "id": "ibqLt0eOJpGj",
        "colab_type": "text"
      },
      "source": [
        "Fitting the Keras Tokenizer on the entire dataset"
      ]
    },
    {
      "cell_type": "code",
      "metadata": {
        "id": "VBAFGPdJkpFx",
        "colab_type": "code",
        "outputId": "9f8ffd58-84c0-496b-ea5b-20dcbd57e7ea",
        "colab": {
          "base_uri": "https://localhost:8080/",
          "height": 52
        }
      },
      "source": [
        "MAX_NB_WORDS = 50000\n",
        "MAX_SEQUENCE_LENGTH = dataset['overview'].map(len).max()\n",
        "EMBEDDING_DIM = 300\n",
        "tokenizer = Tokenizer(num_words=MAX_NB_WORDS, lower=True)\n",
        "tokenizer.fit_on_texts(dataset['overview'].values)\n",
        "word_index = tokenizer.word_index\n",
        "print('Found %s unique tokens.' % len(word_index))\n",
        "print('Max len:', MAX_SEQUENCE_LENGTH)"
      ],
      "execution_count": 0,
      "outputs": [
        {
          "output_type": "stream",
          "text": [
            "Found 71019 unique tokens.\n",
            "Max len: 868\n"
          ],
          "name": "stdout"
        }
      ]
    },
    {
      "cell_type": "markdown",
      "metadata": {
        "id": "oZgDVxFZJ5IO",
        "colab_type": "text"
      },
      "source": [
        "The baseline model was tested on GLoVe embeddings, fasttext embeddings and word2vec embeddings. Word2vec outperformed the other two embeddings. \n",
        "\n",
        "This function loads the word2vec model and intializes the embedding matrix. Each word which is present in the embedding is then added as a vector to the embedding matrix."
      ]
    },
    {
      "cell_type": "code",
      "metadata": {
        "id": "McG3kW4Jj8Qb",
        "colab_type": "code",
        "colab": {}
      },
      "source": [
        "def get_embedding_matrix(typeToLoad):\n",
        "  if typeToLoad == \"glove\":\n",
        "    EMBEDDING_FILE=\"/content/glove.twitter.27B.100d.txt\"\n",
        "    embed_size = 100\n",
        "  elif typeToLoad == \"word2vec\":\n",
        "    word2vecDict = KeyedVectors.load_word2vec_format(\"/content/GoogleNews-vectors-negative300.bin\", binary=True)\n",
        "    embed_size = 300\n",
        "  elif typeToLoad == \"fasttext\":\n",
        "    EMBEDDING_FILE=\"/content/wiki-news-300d-1M.vec\"\n",
        "    embed_size = 300\n",
        "\n",
        "  if typeToLoad == \"glove\" or typeToLoad == \"fasttext\":\n",
        "    embeddings_index = dict()\n",
        "    f = open(EMBEDDING_FILE)\n",
        "    for line in f:\n",
        "      values = line.split()\n",
        "      word = values[0]\n",
        "      coefs = np.asarray(values[1:], dtype='float32')\n",
        "      embeddings_index[word] = coefs\n",
        "    f.close()\n",
        "    print(\"Loaded \" + str(len(embeddings_index)) + \" word vectors.\")\n",
        "  else:\n",
        "    embeddings_index = dict()\n",
        "    for word in word2vecDict.wv.vocab:\n",
        "      embeddings_index[word] = word2vecDict.word_vec(word)\n",
        "    print(\"Loaded \" + str(len(embeddings_index)) + \" word vectors.\")\n",
        "        \n",
        "  embedding_matrix = 1 * np.random.randn(len(word_index)+1, embed_size)\n",
        "\n",
        "  embeddedCount = 0\n",
        "  for word, i in word_index.items():\n",
        "    i-=1\n",
        "    embedding_vector = embeddings_index.get(word)\n",
        "    if embedding_vector is not None: \n",
        "      embedding_matrix[i] = embedding_vector\n",
        "      embeddedCount+=1\n",
        "  print(\"total embedded:\", embeddedCount, \"common words\")\n",
        "        \n",
        "  del(embeddings_index)\n",
        "        \n",
        "  return embedding_matrix"
      ],
      "execution_count": 0,
      "outputs": []
    },
    {
      "cell_type": "code",
      "metadata": {
        "id": "DpcVOzgx_KYr",
        "colab_type": "code",
        "outputId": "7d06360b-e3a5-4f1a-c8fb-3edaade1009c",
        "colab": {
          "base_uri": "https://localhost:8080/",
          "height": 124
        }
      },
      "source": [
        "word2vec_embedding_matrix = get_embedding_matrix(\"word2vec\")"
      ],
      "execution_count": 0,
      "outputs": [
        {
          "output_type": "stream",
          "text": [
            "/usr/local/lib/python3.6/dist-packages/smart_open/smart_open_lib.py:253: UserWarning: This function is deprecated, use smart_open.open instead. See the migration notes for details: https://github.com/RaRe-Technologies/smart_open/blob/master/README.rst#migrating-to-the-new-open-function\n",
            "  'See the migration notes for details: %s' % _MIGRATION_NOTES_URL\n",
            "/usr/local/lib/python3.6/dist-packages/ipykernel_launcher.py:24: DeprecationWarning: Call to deprecated `wv` (Attribute will be removed in 4.0.0, use self instead).\n"
          ],
          "name": "stderr"
        },
        {
          "output_type": "stream",
          "text": [
            "Loaded 3000000 word vectors.\n",
            "total embedded: 34351 common words\n"
          ],
          "name": "stdout"
        }
      ]
    },
    {
      "cell_type": "code",
      "metadata": {
        "id": "mAx-SX6Cmahq",
        "colab_type": "code",
        "outputId": "0f141e15-09d1-4900-8b49-659c9393a618",
        "colab": {
          "base_uri": "https://localhost:8080/",
          "height": 35
        }
      },
      "source": [
        "X_text_train = tokenizer.texts_to_sequences(train['overview'].values)\n",
        "X_text_train = pad_sequences(X_text_train, maxlen=MAX_SEQUENCE_LENGTH)\n",
        "print('Shape of train tensor:', X_text_train.shape)"
      ],
      "execution_count": 0,
      "outputs": [
        {
          "output_type": "stream",
          "text": [
            "Shape of train tensor: (26864, 868)\n"
          ],
          "name": "stdout"
        }
      ]
    },
    {
      "cell_type": "code",
      "metadata": {
        "id": "1EvPJ7owmlJU",
        "colab_type": "code",
        "outputId": "bdbd64ed-0198-4d3a-c51e-28e07366c90c",
        "colab": {
          "base_uri": "https://localhost:8080/",
          "height": 35
        }
      },
      "source": [
        "X_text_test = tokenizer.texts_to_sequences(test['overview'].values)\n",
        "X_text_test = pad_sequences(X_text_test, maxlen=MAX_SEQUENCE_LENGTH)\n",
        "print('Shape of train tensor:', X_text_test.shape)"
      ],
      "execution_count": 0,
      "outputs": [
        {
          "output_type": "stream",
          "text": [
            "Shape of train tensor: (7463, 868)\n"
          ],
          "name": "stdout"
        }
      ]
    },
    {
      "cell_type": "code",
      "metadata": {
        "id": "4dTOO2AWm4F9",
        "colab_type": "code",
        "outputId": "fe8fb18d-e5da-4907-cc5d-39058466bfe8",
        "colab": {
          "base_uri": "https://localhost:8080/",
          "height": 35
        }
      },
      "source": [
        "X_text_val = tokenizer.texts_to_sequences(val['overview'].values)\n",
        "X_text_val = pad_sequences(X_text_val, maxlen=MAX_SEQUENCE_LENGTH)\n",
        "print('Shape of train tensor:', X_text_val.shape)"
      ],
      "execution_count": 0,
      "outputs": [
        {
          "output_type": "stream",
          "text": [
            "Shape of train tensor: (2986, 868)\n"
          ],
          "name": "stdout"
        }
      ]
    },
    {
      "cell_type": "markdown",
      "metadata": {
        "id": "LmHwDLbULC7X",
        "colab_type": "text"
      },
      "source": [
        "The model architecture consists of an LSTM and a CNN. The LSTM takes the input as a padded sequence of the overview of a movie. The CNN takes a movie poster as the input. Each model has a fully connected layer whose output is concatenated and fed forward to a final fully connected layer with 18 output units. The output layer has a sigmoid activation function.\n",
        "\n",
        "Binary crossentropy was the chosen loss function and the Adam optimizer was used."
      ]
    },
    {
      "cell_type": "code",
      "metadata": {
        "id": "pUS79buFnrbZ",
        "colab_type": "code",
        "colab": {}
      },
      "source": [
        "def compile_model(embedding_matrix):\n",
        "  lstm_input = Input(shape=(MAX_SEQUENCE_LENGTH,))\n",
        "  x = Embedding(embedding_matrix.shape[0], embedding_matrix.shape[1], mask_zero=True, input_length=MAX_SEQUENCE_LENGTH, trainable=False)(lstm_input)\n",
        "  x = Dropout(0.3)(x)\n",
        "  x = LSTM(64, return_sequences = True)(x)\n",
        "  x = Dropout(0.3)(x)\n",
        "  x = LSTM(64)(x)\n",
        "  x = Dropout(0.3)(x)\n",
        "  lstm_out = Dense(18, activation = 'relu')(x)\n",
        "\n",
        "  print(X_img_train.shape[1], X_img_train.shape[2], X_img_train.shape[3])\n",
        "  cnn_input = Input(shape=(X_img_train.shape[1], X_img_train.shape[2], X_img_train.shape[3]))\n",
        "  y = Conv2D(32, (3, 3), activation='relu', input_shape=(X_img_train.shape[1], X_img_train.shape[2], X_img_train.shape[3]))(cnn_input)\n",
        "  y = MaxPooling2D(2, 2)(y)\n",
        "  y = Conv2D(64, (3, 3), activation='relu')(y)\n",
        "  y = MaxPooling2D(2, 2)(y)\n",
        "  y = Conv2D(128, (3, 3), activation='relu')(y)\n",
        "  y = MaxPooling2D(2, 2)(y)\n",
        "  y = Conv2D(128, (3, 3), activation='relu')(y)\n",
        "  y = MaxPooling2D(2, 2)(y)\n",
        "  y = Flatten()(y)\n",
        "  y = Dropout(0.3)(y)\n",
        "  cnn_out = Dense(512, activation='relu')(y)\n",
        "\n",
        "  concat_inp = concatenate([cnn_out, lstm_out])\n",
        "  z = Dense(256, activation='relu')(concat_inp)\n",
        "  z = Dropout(0.3)(z)\n",
        "  z = Dense(128, activation='relu')(z)\n",
        "  z = Dropout(0.3)(z)\n",
        "  output = Dense(train_labels.shape[1], activation='sigmoid')(z)\n",
        "\n",
        "  model = Model(inputs=[cnn_input, lstm_input], outputs=[output])\n",
        "  adam = Adam(lr=0.001, decay=1e-5)\n",
        "  \n",
        "  model.compile(loss='binary_crossentropy', optimizer=adam, metrics=['accuracy'])\n",
        "  return model"
      ],
      "execution_count": 0,
      "outputs": []
    },
    {
      "cell_type": "code",
      "metadata": {
        "id": "vRygE9Ri_1pI",
        "colab_type": "code",
        "outputId": "3791d6da-c389-4578-ef6e-87fb20839c38",
        "colab": {
          "base_uri": "https://localhost:8080/",
          "height": 1000
        }
      },
      "source": [
        "word2vec_model = compile_model(word2vec_embedding_matrix)\n",
        "word2vec_model.summary()"
      ],
      "execution_count": 0,
      "outputs": [
        {
          "output_type": "stream",
          "text": [
            "115 75 3\n",
            "Model: \"model_3\"\n",
            "__________________________________________________________________________________________________\n",
            "Layer (type)                    Output Shape         Param #     Connected to                     \n",
            "==================================================================================================\n",
            "input_12 (InputLayer)           (None, 115, 75, 3)   0                                            \n",
            "__________________________________________________________________________________________________\n",
            "conv2d_21 (Conv2D)              (None, 113, 73, 32)  896         input_12[0][0]                   \n",
            "__________________________________________________________________________________________________\n",
            "max_pooling2d_21 (MaxPooling2D) (None, 56, 36, 32)   0           conv2d_21[0][0]                  \n",
            "__________________________________________________________________________________________________\n",
            "conv2d_22 (Conv2D)              (None, 54, 34, 64)   18496       max_pooling2d_21[0][0]           \n",
            "__________________________________________________________________________________________________\n",
            "max_pooling2d_22 (MaxPooling2D) (None, 27, 17, 64)   0           conv2d_22[0][0]                  \n",
            "__________________________________________________________________________________________________\n",
            "input_11 (InputLayer)           (None, 868)          0                                            \n",
            "__________________________________________________________________________________________________\n",
            "conv2d_23 (Conv2D)              (None, 25, 15, 128)  73856       max_pooling2d_22[0][0]           \n",
            "__________________________________________________________________________________________________\n",
            "embedding_6 (Embedding)         (None, 868, 300)     21306000    input_11[0][0]                   \n",
            "__________________________________________________________________________________________________\n",
            "max_pooling2d_23 (MaxPooling2D) (None, 12, 7, 128)   0           conv2d_23[0][0]                  \n",
            "__________________________________________________________________________________________________\n",
            "dropout_25 (Dropout)            (None, 868, 300)     0           embedding_6[0][0]                \n",
            "__________________________________________________________________________________________________\n",
            "conv2d_24 (Conv2D)              (None, 10, 5, 128)   147584      max_pooling2d_23[0][0]           \n",
            "__________________________________________________________________________________________________\n",
            "lstm_11 (LSTM)                  (None, 868, 64)      93440       dropout_25[0][0]                 \n",
            "__________________________________________________________________________________________________\n",
            "max_pooling2d_24 (MaxPooling2D) (None, 5, 2, 128)    0           conv2d_24[0][0]                  \n",
            "__________________________________________________________________________________________________\n",
            "dropout_26 (Dropout)            (None, 868, 64)      0           lstm_11[0][0]                    \n",
            "__________________________________________________________________________________________________\n",
            "flatten_6 (Flatten)             (None, 1280)         0           max_pooling2d_24[0][0]           \n",
            "__________________________________________________________________________________________________\n",
            "lstm_12 (LSTM)                  (None, 64)           33024       dropout_26[0][0]                 \n",
            "__________________________________________________________________________________________________\n",
            "dropout_28 (Dropout)            (None, 1280)         0           flatten_6[0][0]                  \n",
            "__________________________________________________________________________________________________\n",
            "dropout_27 (Dropout)            (None, 64)           0           lstm_12[0][0]                    \n",
            "__________________________________________________________________________________________________\n",
            "dense_18 (Dense)                (None, 512)          655872      dropout_28[0][0]                 \n",
            "__________________________________________________________________________________________________\n",
            "dense_17 (Dense)                (None, 18)           1170        dropout_27[0][0]                 \n",
            "__________________________________________________________________________________________________\n",
            "concatenate_3 (Concatenate)     (None, 530)          0           dense_18[0][0]                   \n",
            "                                                                 dense_17[0][0]                   \n",
            "__________________________________________________________________________________________________\n",
            "dense_19 (Dense)                (None, 256)          135936      concatenate_3[0][0]              \n",
            "__________________________________________________________________________________________________\n",
            "dropout_29 (Dropout)            (None, 256)          0           dense_19[0][0]                   \n",
            "__________________________________________________________________________________________________\n",
            "dense_20 (Dense)                (None, 128)          32896       dropout_29[0][0]                 \n",
            "__________________________________________________________________________________________________\n",
            "dropout_30 (Dropout)            (None, 128)          0           dense_20[0][0]                   \n",
            "__________________________________________________________________________________________________\n",
            "dense_21 (Dense)                (None, 18)           2322        dropout_30[0][0]                 \n",
            "==================================================================================================\n",
            "Total params: 22,501,492\n",
            "Trainable params: 1,195,492\n",
            "Non-trainable params: 21,306,000\n",
            "__________________________________________________________________________________________________\n"
          ],
          "name": "stdout"
        }
      ]
    },
    {
      "cell_type": "markdown",
      "metadata": {
        "id": "BBUbNqJ2L5h8",
        "colab_type": "text"
      },
      "source": [
        "Some default Keras callbacks were used to prevent overfitting and saving the model's data and training history."
      ]
    },
    {
      "cell_type": "code",
      "metadata": {
        "id": "ny6FvRo86DL0",
        "colab_type": "code",
        "colab": {}
      },
      "source": [
        "es = EarlyStopping(patience=5)\n",
        "csv_logger = CSVLogger('/content/drive/My Drive/Movie_genre_prediction_dataset/model_history_log_model_lstm.csv', append=True)\n",
        "check_point = ModelCheckpoint(filepath='/content/drive/My Drive/Movie_genre_prediction_dataset/best_lstm_model_todate', save_best_only=True, save_weights_only=True)"
      ],
      "execution_count": 0,
      "outputs": []
    },
    {
      "cell_type": "code",
      "metadata": {
        "id": "mG86gLxUAc2B",
        "colab_type": "code",
        "outputId": "77729fe2-1c4f-45f6-a9f7-242388100423",
        "colab": {
          "base_uri": "https://localhost:8080/",
          "height": 748
        }
      },
      "source": [
        "word2vec_multi_modal_model = word2vec_model.fit([X_img_train, X_text_train], train_labels, batch_size=256, epochs=20,\n",
        "                            validation_data=([X_img_val, X_text_val], val_labels), callbacks = [es, csv_logger, check_point])"
      ],
      "execution_count": 0,
      "outputs": [
        {
          "output_type": "stream",
          "text": [
            "Train on 26864 samples, validate on 2986 samples\n",
            "Epoch 1/20\n",
            "26864/26864 [==============================] - 568s 21ms/step - loss: 0.3500 - accuracy: 0.8692 - val_loss: 0.3108 - val_accuracy: 0.8855\n",
            "Epoch 2/20\n",
            "26864/26864 [==============================] - 557s 21ms/step - loss: 0.3146 - accuracy: 0.8832 - val_loss: 0.2969 - val_accuracy: 0.8868\n",
            "Epoch 3/20\n",
            "26864/26864 [==============================] - 555s 21ms/step - loss: 0.3052 - accuracy: 0.8856 - val_loss: 0.2931 - val_accuracy: 0.8876\n",
            "Epoch 4/20\n",
            "26864/26864 [==============================] - 553s 21ms/step - loss: 0.3017 - accuracy: 0.8865 - val_loss: 0.2922 - val_accuracy: 0.8885\n",
            "Epoch 5/20\n",
            "26864/26864 [==============================] - 562s 21ms/step - loss: 0.2975 - accuracy: 0.8876 - val_loss: 0.2887 - val_accuracy: 0.8889\n",
            "Epoch 6/20\n",
            "26864/26864 [==============================] - 564s 21ms/step - loss: 0.2947 - accuracy: 0.8885 - val_loss: 0.2858 - val_accuracy: 0.8891\n",
            "Epoch 7/20\n",
            "26864/26864 [==============================] - 564s 21ms/step - loss: 0.2907 - accuracy: 0.8893 - val_loss: 0.2865 - val_accuracy: 0.8881\n",
            "Epoch 8/20\n",
            "26864/26864 [==============================] - 558s 21ms/step - loss: 0.2877 - accuracy: 0.8895 - val_loss: 0.2824 - val_accuracy: 0.8910\n",
            "Epoch 9/20\n",
            "26864/26864 [==============================] - 554s 21ms/step - loss: 0.2834 - accuracy: 0.8912 - val_loss: 0.2809 - val_accuracy: 0.8912\n",
            "Epoch 10/20\n",
            "26864/26864 [==============================] - 555s 21ms/step - loss: 0.2804 - accuracy: 0.8920 - val_loss: 0.2769 - val_accuracy: 0.8916\n",
            "Epoch 11/20\n",
            "26864/26864 [==============================] - 556s 21ms/step - loss: 0.2761 - accuracy: 0.8927 - val_loss: 0.2741 - val_accuracy: 0.8934\n",
            "Epoch 12/20\n",
            "26864/26864 [==============================] - 559s 21ms/step - loss: 0.2720 - accuracy: 0.8942 - val_loss: 0.2725 - val_accuracy: 0.8944\n",
            "Epoch 13/20\n",
            "26864/26864 [==============================] - 568s 21ms/step - loss: 0.2686 - accuracy: 0.8950 - val_loss: 0.2699 - val_accuracy: 0.8942\n",
            "Epoch 14/20\n",
            "26864/26864 [==============================] - 573s 21ms/step - loss: 0.2634 - accuracy: 0.8967 - val_loss: 0.2712 - val_accuracy: 0.8936\n",
            "Epoch 15/20\n",
            "26864/26864 [==============================] - 571s 21ms/step - loss: 0.2589 - accuracy: 0.8986 - val_loss: 0.2695 - val_accuracy: 0.8946\n",
            "Epoch 16/20\n",
            "26864/26864 [==============================] - 567s 21ms/step - loss: 0.2539 - accuracy: 0.8996 - val_loss: 0.2692 - val_accuracy: 0.8942\n",
            "Epoch 17/20\n",
            "26864/26864 [==============================] - 568s 21ms/step - loss: 0.2490 - accuracy: 0.9016 - val_loss: 0.2715 - val_accuracy: 0.8933\n",
            "Epoch 18/20\n",
            "26864/26864 [==============================] - 561s 21ms/step - loss: 0.2441 - accuracy: 0.9033 - val_loss: 0.2708 - val_accuracy: 0.8947\n",
            "Epoch 19/20\n",
            "26864/26864 [==============================] - 563s 21ms/step - loss: 0.2391 - accuracy: 0.9050 - val_loss: 0.2720 - val_accuracy: 0.8941\n",
            "Epoch 20/20\n",
            "26864/26864 [==============================] - 563s 21ms/step - loss: 0.2324 - accuracy: 0.9076 - val_loss: 0.2787 - val_accuracy: 0.8930\n"
          ],
          "name": "stdout"
        }
      ]
    },
    {
      "cell_type": "code",
      "metadata": {
        "id": "UweR0SSJAx0G",
        "colab_type": "code",
        "colab": {}
      },
      "source": [
        "word2vec_model.save('/content/drive/My Drive/Movie_genre_prediction_dataset/base_model_word2vec_lstm.h5')"
      ],
      "execution_count": 0,
      "outputs": []
    },
    {
      "cell_type": "code",
      "metadata": {
        "id": "yaKq3UqNHw7x",
        "colab_type": "code",
        "colab": {}
      },
      "source": [
        "word2vec_model = load_model(\"/content/drive/My Drive/Movie_genre_prediction_dataset/base_model_word2vec_lstm.h5\")"
      ],
      "execution_count": 0,
      "outputs": []
    },
    {
      "cell_type": "code",
      "metadata": {
        "id": "nPhz6XwD-ZGk",
        "colab_type": "code",
        "colab": {}
      },
      "source": [
        "def plot_loss(history):\n",
        "  plt.title('Loss')\n",
        "  plt.plot(history.history['loss'], label='train')\n",
        "  plt.plot(history.history['val_loss'], label='test')\n",
        "  plt.legend(['training loss', 'validation loss'], loc='upper right')\n",
        "  plt.show()\n",
        "\n",
        "def plot_acc(history):\n",
        "  plt.title('Accuracy')\n",
        "  plt.plot(history.history['accuracy'], label='train')\n",
        "  plt.plot(history.history['val_accuracy'], label='test')\n",
        "  plt.legend(['training accuracy', 'validation accuracy'], loc='lower right')\n",
        "  plt.show()"
      ],
      "execution_count": 0,
      "outputs": []
    },
    {
      "cell_type": "code",
      "metadata": {
        "id": "ClKNJNihBQNS",
        "colab_type": "code",
        "outputId": "f29443e4-2239-4583-d505-2992f84b035c",
        "colab": {
          "base_uri": "https://localhost:8080/",
          "height": 556
        }
      },
      "source": [
        "plot_acc(word2vec_multi_modal_model)"
      ],
      "execution_count": 0,
      "outputs": [
        {
          "output_type": "display_data",
          "data": {
            "image/png": "[encoded data removed]",
            "text/plain": [
              "<Figure size 921.6x633.6 with 1 Axes>"
            ]
          },
          "metadata": {
            "tags": []
          }
        }
      ]
    },
    {
      "cell_type": "code",
      "metadata": {
        "id": "Y0lqSL5nBVr7",
        "colab_type": "code",
        "outputId": "caf3c4cd-4236-4130-e283-b62905c20768",
        "colab": {
          "base_uri": "https://localhost:8080/",
          "height": 556
        }
      },
      "source": [
        "plot_loss(word2vec_multi_modal_model)"
      ],
      "execution_count": 0,
      "outputs": [
        {
          "output_type": "display_data",
          "data": {
            "image/png": "[encoded data removed]",
            "text/plain": [
              "<Figure size 921.6x633.6 with 1 Axes>"
            ]
          },
          "metadata": {
            "tags": []
          }
        }
      ]
    },
    {
      "cell_type": "markdown",
      "metadata": {
        "id": "x06Rdc4TMSNe",
        "colab_type": "text"
      },
      "source": [
        "Model evaluation on the test set"
      ]
    },
    {
      "cell_type": "code",
      "metadata": {
        "id": "hcbBU525Jjv5",
        "colab_type": "code",
        "outputId": "a9fa5549-2fd4-4abc-899a-2cfa65d342c4",
        "colab": {
          "base_uri": "https://localhost:8080/",
          "height": 52
        }
      },
      "source": [
        "loss, acc = word2vec_model.evaluate([X_img_test, X_text_test], test_labels, batch_size=256)\n",
        "print(\"word2vec model:\", loss, acc)"
      ],
      "execution_count": 0,
      "outputs": [
        {
          "output_type": "stream",
          "text": [
            "7463/7463 [==============================] - 25s 3ms/step\n",
            "word2vec model: 0.27427270484564853 0.8949633240699768\n"
          ],
          "name": "stdout"
        }
      ]
    },
    {
      "cell_type": "code",
      "metadata": {
        "id": "buT5mBNfOXze",
        "colab_type": "code",
        "colab": {}
      },
      "source": [
        "out = word2vec_model.predict([X_img_test, X_text_test], batch_size=256)"
      ],
      "execution_count": 0,
      "outputs": []
    },
    {
      "cell_type": "markdown",
      "metadata": {
        "id": "b2ria_GsMWFQ",
        "colab_type": "text"
      },
      "source": [
        "The primary metric for evaluation was not accuracy due to an imbalance of classes and due to a multi-label output. The ROC AUC score was primarily used to evaluate the model's performance along with the F1 score and Hamming loss."
      ]
    },
    {
      "cell_type": "code",
      "metadata": {
        "id": "uB8CUriCOdco",
        "colab_type": "code",
        "outputId": "99519f6c-2503-4345-b943-d84c917978bf",
        "colab": {
          "base_uri": "https://localhost:8080/",
          "height": 35
        }
      },
      "source": [
        "roc_auc = roc_auc_score(test_labels, out)\n",
        "print(roc_auc)"
      ],
      "execution_count": 0,
      "outputs": [
        {
          "output_type": "stream",
          "text": [
            "0.7563505986434716\n"
          ],
          "name": "stdout"
        }
      ]
    },
    {
      "cell_type": "markdown",
      "metadata": {
        "id": "c9q1H4xJMvpj",
        "colab_type": "text"
      },
      "source": [
        "Arbitrary threshold of 0.5 to convert the output probabilities for initial evaluation. Evaluation metric are then applied to this one-hot encoded matrix."
      ]
    },
    {
      "cell_type": "code",
      "metadata": {
        "id": "trWaekE8m8oZ",
        "colab_type": "code",
        "colab": {}
      },
      "source": [
        "y_pred = np.zeros(out.shape)\n",
        "y_pred[out>0.5]=1\n",
        "y_pred = np.array(y_pred)"
      ],
      "execution_count": 0,
      "outputs": []
    },
    {
      "cell_type": "code",
      "metadata": {
        "id": "mEM0ArZanHWi",
        "colab_type": "code",
        "outputId": "ff4e948e-1f48-407a-f6da-a84be6a3e615",
        "colab": {
          "base_uri": "https://localhost:8080/",
          "height": 159
        }
      },
      "source": [
        "hl = hamming_loss(test_labels,y_pred)\n",
        "score = accuracy_score(test_labels, y_pred)\n",
        "precision = precision_score(test_labels,y_pred, average = 'samples')\n",
        "recall = recall_score(test_labels,y_pred, average = 'samples')\n",
        "f1 = f1_score(test_labels,y_pred, average = 'samples')\n",
        "print(\"Hamming loss:\", hl)\n",
        "print(\"score:\", score)\n",
        "print(\"Precision:\", precision)\n",
        "print(\"Recall:\", recall)\n",
        "print(\"F1_score:\", f1)"
      ],
      "execution_count": 0,
      "outputs": [
        {
          "output_type": "stream",
          "text": [
            "Hamming loss: 0.10503669956972918\n",
            "score: 0.15811335923891195\n",
            "Precision: 0.5170172852740185\n",
            "Recall: 0.3882837873190278\n",
            "F1_score: 0.4114172776171972\n"
          ],
          "name": "stdout"
        },
        {
          "output_type": "stream",
          "text": [
            "/usr/local/lib/python3.6/dist-packages/sklearn/metrics/_classification.py:1272: UndefinedMetricWarning: Precision is ill-defined and being set to 0.0 in samples with no predicted labels. Use `zero_division` parameter to control this behavior.\n",
            "  _warn_prf(average, modifier, msg_start, len(result))\n"
          ],
          "name": "stderr"
        }
      ]
    },
    {
      "cell_type": "markdown",
      "metadata": {
        "id": "GbFemhuHM2fZ",
        "colab_type": "text"
      },
      "source": [
        "Using Matthew's correlation coefficient to evaluate the best threshold for each of the 18 classes in the labels."
      ]
    },
    {
      "cell_type": "code",
      "metadata": {
        "id": "sZAmOu15ztB0",
        "colab_type": "code",
        "outputId": "94239283-6a35-4dc6-906e-293fddf70af7",
        "colab": {
          "base_uri": "https://localhost:8080/",
          "height": 72
        }
      },
      "source": [
        "from sklearn.metrics import matthews_corrcoef\n",
        "y_test = test_labels\n",
        "y_pred = np.zeros(out.shape)\n",
        "y_pred = np.array(y_pred) \n",
        "threshold = np.arange(0.01, 0.90, 0.20)\n",
        "\n",
        "acc = []\n",
        "accuracies = []\n",
        "best_threshold = np.zeros(out.shape[1])\n",
        "for i in range(out.shape[1]):\n",
        "  y_prob = np.array(out[:,i])\n",
        "  for j in threshold:\n",
        "    y_pred = [1 if prob>=j else 0 for prob in y_prob]\n",
        "    y_pred = np.array(y_pred)\n",
        "    mcc = matthews_corrcoef(y_test[:,i],y_pred)\n",
        "    acc.append(mcc)\n",
        "  acc   = np.array(acc)\n",
        "  index = np.where(acc==acc.max())\n",
        "  accuracies.append(acc.max())\n",
        "  best_threshold[i] = threshold[index[0][0]]\n",
        "  acc = []\n",
        "\n",
        "y_pred = np.array([[1 if out[i,j]>=best_threshold[j] else 0 for j in range(y_test.shape[1])] for i in range(len(y_test))])   "
      ],
      "execution_count": 0,
      "outputs": [
        {
          "output_type": "stream",
          "text": [
            "/usr/local/lib/python3.6/dist-packages/sklearn/metrics/_classification.py:900: RuntimeWarning: invalid value encountered in double_scalars\n",
            "  mcc = cov_ytyp / np.sqrt(cov_ytyt * cov_ypyp)\n"
          ],
          "name": "stderr"
        }
      ]
    },
    {
      "cell_type": "code",
      "metadata": {
        "id": "N7aGDM8j01hM",
        "colab_type": "code",
        "colab": {}
      },
      "source": [
        "preds = np.transpose(y_pred)\n",
        "labels = np.transpose(test_labels)"
      ],
      "execution_count": 0,
      "outputs": []
    },
    {
      "cell_type": "markdown",
      "metadata": {
        "id": "tpuG_9LzNKvQ",
        "colab_type": "text"
      },
      "source": [
        "Evaluation of the model's performance for each indivual class. Evaluation metrics are applied to each class label and then the average of these metrics is taken to evaluate the entire model's performance."
      ]
    },
    {
      "cell_type": "code",
      "metadata": {
        "id": "A6moQhUV1HE1",
        "colab_type": "code",
        "outputId": "28b50288-69d8-4f67-f656-ec098688c187",
        "colab": {
          "base_uri": "https://localhost:8080/",
          "height": 1000
        }
      },
      "source": [
        "from mlxtend.plotting import plot_confusion_matrix\n",
        "from sklearn.metrics import confusion_matrix\n",
        "\n",
        "accuracy_per_class = []\n",
        "precision_per_class = []\n",
        "recall_per_class = []\n",
        "f1_per_class = []\n",
        "classes = list(mlb.classes_)\n",
        "for i in range(labels.shape[0]):\n",
        "  # print(len(labels[i, :]), len(preds[i, :]))\n",
        "  accuracy_per_class.append(accuracy_score(labels[i, :], preds[i, :]))\n",
        "  precision_per_class.append(precision_score(labels[i, :], preds[i, :]))\n",
        "  recall_per_class.append(recall_score(labels[i, :], preds[i, :]))\n",
        "  f1_per_class.append(f1_score(labels[i, :], preds[i, :]))\n",
        "  print(classes[i])\n",
        "  print(\"accuracy:\", accuracy_per_class[i], \"precision:\", precision_per_class[i],\n",
        "        \"recall:\", recall_per_class[i], \"f1:\", f1_per_class[i])\n",
        "  cm  = confusion_matrix(labels[i, :], preds[i, :])\n",
        "  plt.figure()\n",
        "  plot_confusion_matrix(cm,figsize=(12,8), hide_ticks=True, cmap=plt.cm.Blues)\n",
        "  plt.xticks(range(2), ['1', '0'], fontsize=16)\n",
        "  plt.yticks(range(2), ['1', '0'], fontsize=16)\n",
        "  plt.show()"
      ],
      "execution_count": 0,
      "outputs": [
        {
          "output_type": "stream",
          "text": [
            "Action\n",
            "accuracy: 0.724373576309795 precision: 0.3262610088070456 recall: 0.6854499579478553 f1: 0.44209384323298073\n"
          ],
          "name": "stdout"
        },
        {
          "output_type": "display_data",
          "data": {
            "text/plain": [
              "<Figure size 921.6x633.6 with 0 Axes>"
            ]
          },
          "metadata": {
            "tags": []
          }
        },
        {
          "output_type": "display_data",
          "data": {
            "image/png": "[encoded data removed]",
            "text/plain": [
              "<Figure size 864x576 with 1 Axes>"
            ]
          },
          "metadata": {
            "tags": []
          }
        },
        {
          "output_type": "stream",
          "text": [
            "Adventure\n",
            "accuracy: 0.8753852338201795 precision: 0.2770167427701674 recall: 0.2857142857142857 f1: 0.28129829984544047\n"
          ],
          "name": "stdout"
        },
        {
          "output_type": "display_data",
          "data": {
            "text/plain": [
              "<Figure size 921.6x633.6 with 0 Axes>"
            ]
          },
          "metadata": {
            "tags": []
          }
        },
        {
          "output_type": "display_data",
          "data": {
            "image/png": "[encoded data removed]",
            "text/plain": [
              "<Figure size 864x576 with 1 Axes>"
            ]
          },
          "metadata": {
            "tags": []
          }
        },
        {
          "output_type": "stream",
          "text": [
            "Animation\n",
            "accuracy: 0.9533699584617447 precision: 0.4927536231884058 recall: 0.2956521739130435 f1: 0.3695652173913043\n"
          ],
          "name": "stdout"
        },
        {
          "output_type": "display_data",
          "data": {
            "text/plain": [
              "<Figure size 921.6x633.6 with 0 Axes>"
            ]
          },
          "metadata": {
            "tags": []
          }
        },
        {
          "output_type": "display_data",
          "data": {
            "image/png": "[encoded data removed]",
            "text/plain": [
              "<Figure size 864x576 with 1 Axes>"
            ]
          },
          "metadata": {
            "tags": []
          }
        },
        {
          "output_type": "stream",
          "text": [
            "Comedy\n",
            "accuracy: 0.7237036044486131 precision: 0.5453781512605042 recall: 0.5697980684811238 f1: 0.5573207385143839\n"
          ],
          "name": "stdout"
        },
        {
          "output_type": "display_data",
          "data": {
            "text/plain": [
              "<Figure size 921.6x633.6 with 0 Axes>"
            ]
          },
          "metadata": {
            "tags": []
          }
        },
        {
          "output_type": "display_data",
          "data": {
            "image/png": "[encoded data removed]",
            "text/plain": [
              "<Figure size 864x576 with 1 Axes>"
            ]
          },
          "metadata": {
            "tags": []
          }
        },
        {
          "output_type": "stream",
          "text": [
            "Crime\n",
            "accuracy: 0.8020903122068873 precision: 0.26515656229180545 recall: 0.5155440414507773 f1: 0.3501979762428509\n"
          ],
          "name": "stdout"
        },
        {
          "output_type": "display_data",
          "data": {
            "text/plain": [
              "<Figure size 921.6x633.6 with 0 Axes>"
            ]
          },
          "metadata": {
            "tags": []
          }
        },
        {
          "output_type": "display_data",
          "data": {
            "image/png": "[encoded data removed]",
            "text/plain": [
              "<Figure size 864x576 with 1 Axes>"
            ]
          },
          "metadata": {
            "tags": []
          }
        },
        {
          "output_type": "stream",
          "text": [
            "Documentary\n",
            "accuracy: 0.9497521104113628 precision: 0.7472924187725631 recall: 0.404296875 f1: 0.5247148288973384\n"
          ],
          "name": "stdout"
        },
        {
          "output_type": "display_data",
          "data": {
            "text/plain": [
              "<Figure size 921.6x633.6 with 0 Axes>"
            ]
          },
          "metadata": {
            "tags": []
          }
        },
        {
          "output_type": "display_data",
          "data": {
            "image/png": "[encoded data removed]",
            "text/plain": [
              "<Figure size 864x576 with 1 Axes>"
            ]
          },
          "metadata": {
            "tags": []
          }
        },
        {
          "output_type": "stream",
          "text": [
            "Drama\n",
            "accuracy: 0.6584483451695029 precision: 0.6784620619258251 recall: 0.5541967759866593 f1: 0.610065779409515\n"
          ],
          "name": "stdout"
        },
        {
          "output_type": "display_data",
          "data": {
            "text/plain": [
              "<Figure size 921.6x633.6 with 0 Axes>"
            ]
          },
          "metadata": {
            "tags": []
          }
        },
        {
          "output_type": "display_data",
          "data": {
            "image/png": "[encoded data removed]",
            "text/plain": [
              "<Figure size 864x576 with 1 Axes>"
            ]
          },
          "metadata": {
            "tags": []
          }
        },
        {
          "output_type": "stream",
          "text": [
            "Family\n",
            "accuracy: 0.924963151547635 precision: 0.47634069400630913 recall: 0.27706422018348625 f1: 0.35034802784222735\n"
          ],
          "name": "stdout"
        },
        {
          "output_type": "display_data",
          "data": {
            "text/plain": [
              "<Figure size 921.6x633.6 with 0 Axes>"
            ]
          },
          "metadata": {
            "tags": []
          }
        },
        {
          "output_type": "display_data",
          "data": {
            "image/png": "[encoded data removed]",
            "text/plain": [
              "<Figure size 864x576 with 1 Axes>"
            ]
          },
          "metadata": {
            "tags": []
          }
        },
        {
          "output_type": "stream",
          "text": [
            "Fantasy\n",
            "accuracy: 0.9271070615034168 precision: 0.23318385650224216 recall: 0.1223529411764706 f1: 0.16049382716049385\n"
          ],
          "name": "stdout"
        },
        {
          "output_type": "display_data",
          "data": {
            "text/plain": [
              "<Figure size 921.6x633.6 with 0 Axes>"
            ]
          },
          "metadata": {
            "tags": []
          }
        },
        {
          "output_type": "display_data",
          "data": {
            "image/png": "[encoded data removed]",
            "text/plain": [
              "<Figure size 864x576 with 1 Axes>"
            ]
          },
          "metadata": {
            "tags": []
          }
        },
        {
          "output_type": "stream",
          "text": [
            "History\n",
            "accuracy: 0.2476215998928045 precision: 0.04242216900444749 recall: 0.9358490566037736 f1: 0.08116511209294715\n"
          ],
          "name": "stdout"
        },
        {
          "output_type": "display_data",
          "data": {
            "text/plain": [
              "<Figure size 921.6x633.6 with 0 Axes>"
            ]
          },
          "metadata": {
            "tags": []
          }
        },
        {
          "output_type": "display_data",
          "data": {
            "image/png": "[encoded data removed]",
            "text/plain": [
              "<Figure size 864x576 with 1 Axes>"
            ]
          },
          "metadata": {
            "tags": []
          }
        },
        {
          "output_type": "stream",
          "text": [
            "Horror\n",
            "accuracy: 0.8534101567734155 precision: 0.367487684729064 recall: 0.45212121212121215 f1: 0.40543478260869564\n"
          ],
          "name": "stdout"
        },
        {
          "output_type": "display_data",
          "data": {
            "text/plain": [
              "<Figure size 921.6x633.6 with 0 Axes>"
            ]
          },
          "metadata": {
            "tags": []
          }
        },
        {
          "output_type": "display_data",
          "data": {
            "image/png": "[encoded data removed]",
            "text/plain": [
              "<Figure size 864x576 with 1 Axes>"
            ]
          },
          "metadata": {
            "tags": []
          }
        },
        {
          "output_type": "stream",
          "text": [
            "Music\n",
            "accuracy: 0.26088704274420477 precision: 0.04069158225637443 recall: 0.91015625 f1: 0.0779003677699766\n"
          ],
          "name": "stdout"
        },
        {
          "output_type": "display_data",
          "data": {
            "text/plain": [
              "<Figure size 921.6x633.6 with 0 Axes>"
            ]
          },
          "metadata": {
            "tags": []
          }
        },
        {
          "output_type": "display_data",
          "data": {
            "image/png": "[encoded data removed]",
            "text/plain": [
              "<Figure size 864x576 with 1 Axes>"
            ]
          },
          "metadata": {
            "tags": []
          }
        },
        {
          "output_type": "stream",
          "text": [
            "Mystery\n",
            "accuracy: 0.9035240519898164 precision: 0.22483940042826553 recall: 0.2267818574514039 f1: 0.2258064516129032\n"
          ],
          "name": "stdout"
        },
        {
          "output_type": "display_data",
          "data": {
            "text/plain": [
              "<Figure size 921.6x633.6 with 0 Axes>"
            ]
          },
          "metadata": {
            "tags": []
          }
        },
        {
          "output_type": "display_data",
          "data": {
            "image/png": "[encoded data removed]",
            "text/plain": [
              "<Figure size 864x576 with 1 Axes>"
            ]
          },
          "metadata": {
            "tags": []
          }
        },
        {
          "output_type": "stream",
          "text": [
            "Romance\n",
            "accuracy: 0.8174996650140695 precision: 0.4273972602739726 recall: 0.38902743142144636 f1: 0.4073107049608355\n"
          ],
          "name": "stdout"
        },
        {
          "output_type": "display_data",
          "data": {
            "text/plain": [
              "<Figure size 921.6x633.6 with 0 Axes>"
            ]
          },
          "metadata": {
            "tags": []
          }
        },
        {
          "output_type": "display_data",
          "data": {
            "image/png": "[encoded data removed]",
            "text/plain": [
              "<Figure size 864x576 with 1 Axes>"
            ]
          },
          "metadata": {
            "tags": []
          }
        },
        {
          "output_type": "stream",
          "text": [
            "Science Fiction\n",
            "accuracy: 0.9100897762293984 precision: 0.36401673640167365 recall: 0.32162661737523107 f1: 0.34151128557409227\n"
          ],
          "name": "stdout"
        },
        {
          "output_type": "display_data",
          "data": {
            "text/plain": [
              "<Figure size 921.6x633.6 with 0 Axes>"
            ]
          },
          "metadata": {
            "tags": []
          }
        },
        {
          "output_type": "display_data",
          "data": {
            "image/png": "[encoded data removed]",
            "text/plain": [
              "<Figure size 864x576 with 1 Axes>"
            ]
          },
          "metadata": {
            "tags": []
          }
        },
        {
          "output_type": "stream",
          "text": [
            "Thriller\n",
            "accuracy: 0.7105721559694493 precision: 0.3569811320754717 recall: 0.6747503566333809 f1: 0.4669299111549852\n"
          ],
          "name": "stdout"
        },
        {
          "output_type": "display_data",
          "data": {
            "text/plain": [
              "<Figure size 921.6x633.6 with 0 Axes>"
            ]
          },
          "metadata": {
            "tags": []
          }
        },
        {
          "output_type": "display_data",
          "data": {
            "image/png": "[encoded data removed]",
            "text/plain": [
              "<Figure size 864x576 with 1 Axes>"
            ]
          },
          "metadata": {
            "tags": []
          }
        },
        {
          "output_type": "stream",
          "text": [
            "War\n",
            "accuracy: 0.23073830899102238 precision: 0.03764705882352941 recall: 0.9372384937238494 f1: 0.0723864921635159\n"
          ],
          "name": "stdout"
        },
        {
          "output_type": "display_data",
          "data": {
            "text/plain": [
              "<Figure size 921.6x633.6 with 0 Axes>"
            ]
          },
          "metadata": {
            "tags": []
          }
        },
        {
          "output_type": "display_data",
          "data": {
            "image/png": "[encoded data removed]",
            "text/plain": [
              "<Figure size 864x576 with 1 Axes>"
            ]
          },
          "metadata": {
            "tags": []
          }
        },
        {
          "output_type": "stream",
          "text": [
            "Western\n",
            "accuracy: 0.9671713788020904 precision: 0.16494845360824742 recall: 0.08888888888888889 f1: 0.11552346570397112\n"
          ],
          "name": "stdout"
        },
        {
          "output_type": "display_data",
          "data": {
            "text/plain": [
              "<Figure size 921.6x633.6 with 0 Axes>"
            ]
          },
          "metadata": {
            "tags": []
          }
        },
        {
          "output_type": "display_data",
          "data": {
            "image/png": "[encoded data removed]",
            "text/plain": [
              "<Figure size 864x576 with 1 Axes>"
            ]
          },
          "metadata": {
            "tags": []
          }
        }
      ]
    },
    {
      "cell_type": "code",
      "metadata": {
        "id": "YU6J1Vz3_7_9",
        "colab_type": "code",
        "outputId": "d6d9b9bd-0b54-4c51-9f91-8fd10187cc90",
        "colab": {
          "base_uri": "https://localhost:8080/",
          "height": 35
        }
      },
      "source": [
        "print(\"Acc:\", np.mean(accuracy_per_class), \"Precision:\", np.mean(precision_per_class), \"Recall:\",\n",
        "      np.mean(recall_per_class), \"f1:\", np.mean(f1_per_class))"
      ],
      "execution_count": 0,
      "outputs": [
        {
          "output_type": "stream",
          "text": [
            "Acc: 0.7467059716825226 Precision: 0.3371264776181064 Recall: 0.48036163911516044 f1: 0.3244481728988032\n"
          ],
          "name": "stdout"
        }
      ]
    },
    {
      "cell_type": "markdown",
      "metadata": {
        "id": "pX5mBNu4OBcU",
        "colab_type": "text"
      },
      "source": [
        "### Pytorch implementation of the model"
      ]
    },
    {
      "cell_type": "code",
      "metadata": {
        "id": "lXEbDIrCkw5o",
        "colab_type": "code",
        "outputId": "df14635a-1bdb-469d-e472-e81e07a9b4e8",
        "colab": {
          "base_uri": "https://localhost:8080/",
          "height": 35
        }
      },
      "source": [
        "import torch \n",
        "import torch.nn as nn\n",
        "import torch.nn.functional as F\n",
        "from torch.utils.data import TensorDataset, DataLoader\n",
        "\n",
        "device = torch.device('cuda' if torch.cuda.is_available() else 'cpu')\n",
        "print(device)"
      ],
      "execution_count": 0,
      "outputs": [
        {
          "output_type": "stream",
          "text": [
            "cuda\n"
          ],
          "name": "stdout"
        }
      ]
    },
    {
      "cell_type": "code",
      "metadata": {
        "id": "b98PDzSpwH4v",
        "colab_type": "code",
        "colab": {}
      },
      "source": [
        "# del model\n",
        "torch.cuda.empty_cache()"
      ],
      "execution_count": 0,
      "outputs": []
    },
    {
      "cell_type": "markdown",
      "metadata": {
        "id": "SxqmS1teOH-D",
        "colab_type": "text"
      },
      "source": [
        "Reshaping numpy arrays containing image data to change it into (number of images * channels * width * height). "
      ]
    },
    {
      "cell_type": "code",
      "metadata": {
        "id": "z6adxBo-itmv",
        "colab_type": "code",
        "outputId": "3931d430-4a56-429f-e0c0-287cc8fbf4d1",
        "colab": {
          "base_uri": "https://localhost:8080/",
          "height": 35
        }
      },
      "source": [
        "X_img_val = np.reshape(X_img_val, (X_img_val.shape[0], 3, 75, 115))\n",
        "X_img_val.shape"
      ],
      "execution_count": 0,
      "outputs": [
        {
          "output_type": "execute_result",
          "data": {
            "text/plain": [
              "(2986, 3, 75, 115)"
            ]
          },
          "metadata": {
            "tags": []
          },
          "execution_count": 27
        }
      ]
    },
    {
      "cell_type": "code",
      "metadata": {
        "id": "s3kiDoXwi0VV",
        "colab_type": "code",
        "colab": {}
      },
      "source": [
        "X_img_test = np.reshape(X_img_test, (X_img_test.shape[0], 3, 75, 115))"
      ],
      "execution_count": 0,
      "outputs": []
    },
    {
      "cell_type": "code",
      "metadata": {
        "id": "CGQ3S46Kic8L",
        "colab_type": "code",
        "colab": {}
      },
      "source": [
        "X_img_train = np.reshape(X_img_train, (X_img_train.shape[0], 3, 75, 115))"
      ],
      "execution_count": 0,
      "outputs": []
    },
    {
      "cell_type": "markdown",
      "metadata": {
        "id": "7Y9oloEgOh-n",
        "colab_type": "text"
      },
      "source": [
        "Creating data loaders for the text and image inputs for the train, validation and test sets."
      ]
    },
    {
      "cell_type": "code",
      "metadata": {
        "id": "i57Qu521Ammo",
        "colab_type": "code",
        "outputId": "2b188f23-9ea3-4d4b-c574-6d08c331d767",
        "colab": {
          "base_uri": "https://localhost:8080/",
          "height": 69
        }
      },
      "source": [
        "text_train_data = TensorDataset(torch.from_numpy(X_text_train), torch.from_numpy(train_labels))\n",
        "img_train_data = TensorDataset(torch.from_numpy(X_img_train), torch.from_numpy(train_labels))\n",
        "\n",
        "text_val_data = TensorDataset(torch.from_numpy(X_text_val), torch.from_numpy(val_labels))\n",
        "img_val_data = TensorDataset(torch.from_numpy(X_img_val), torch.from_numpy(val_labels))\n",
        "\n",
        "text_test_data = TensorDataset(torch.from_numpy(X_text_test), torch.from_numpy(test_labels))\n",
        "img_test_data = TensorDataset(torch.from_numpy(X_img_test), torch.from_numpy(test_labels))\n",
        "\n",
        "batch_size = 64\n",
        "\n",
        "text_train_loader = DataLoader(text_train_data, batch_size=batch_size)\n",
        "img_train_loader = DataLoader(img_train_data, batch_size=batch_size)\n",
        "\n",
        "text_val_loader = DataLoader(text_val_data, batch_size=batch_size)\n",
        "img_val_loader = DataLoader(img_val_data, batch_size=batch_size)\n",
        "\n",
        "text_test_loader = DataLoader(text_test_data, batch_size=batch_size)\n",
        "img_test_loader = DataLoader(img_test_data, batch_size=batch_size)\n",
        "\n",
        "print(len(text_train_loader), len(img_train_loader))\n",
        "print(len(text_val_loader), len(img_val_loader))\n",
        "print(len(text_test_loader), len(img_test_loader))"
      ],
      "execution_count": 0,
      "outputs": [
        {
          "output_type": "stream",
          "text": [
            "420 420\n",
            "47 47\n",
            "117 117\n"
          ],
          "name": "stdout"
        }
      ]
    },
    {
      "cell_type": "markdown",
      "metadata": {
        "id": "WKrLwiysOpg_",
        "colab_type": "text"
      },
      "source": [
        "The model consisting of a CNN and LSTM with their outputs being fed into a set of fully connected layers. The final layer consists of 18 output units each having a sigmoid activation. "
      ]
    },
    {
      "cell_type": "code",
      "metadata": {
        "id": "EI-OTugDlamA",
        "colab_type": "code",
        "colab": {}
      },
      "source": [
        "class CNN_LSTM(nn.Module):\n",
        "  def __init__(self, vocab_size, weights_matrix, n_hidden, n_layers, n_out):\n",
        "    super(CNN_LSTM, self).__init__()\n",
        "\n",
        "    # LSTM for the text overview\n",
        "    self.vocab_size, self.n_hidden, self.n_out, self.n_layers = vocab_size, n_hidden, n_out, n_layers\n",
        "    num_embeddings, embedding_dim = weights_matrix.shape[0], weights_matrix.shape[1]\n",
        "    self.emb = nn.Embedding(num_embeddings, embedding_dim)\n",
        "    self.emb.weight.data.copy_(torch.from_numpy(weights_matrix))\n",
        "    self.emb.weight.requires_grad = True\n",
        "    self.lstm = nn.LSTM(embedding_dim, self.n_hidden, self.n_layers, dropout=0.2, batch_first=True)\n",
        "    self.dropout = nn.Dropout(0.1)\n",
        "    self.lstm_fc = nn.Linear(self.n_hidden, 128)\n",
        "    # self.sigmoid = nn.Sigmoid()\n",
        "\n",
        "    # CNN for the posters\n",
        "    self.conv1 = nn.Conv2d(3, 32, 3)\n",
        "    self.max_pool1 = nn.MaxPool2d(2)\n",
        "    self.conv2 = nn.Conv2d(32, 64, 3)\n",
        "    self.max_pool2 = nn.MaxPool2d(2)\n",
        "    self.conv3 = nn.Conv2d(64, 128, 3)\n",
        "    self.max_pool3 = nn.MaxPool2d(2)\n",
        "    self.conv4 = nn.Conv2d(128, 128, 3)\n",
        "    self.max_pool4 = nn.MaxPool2d(2)\n",
        "    self.cnn_dropout = nn.Dropout(0.1)\n",
        "    self.cnn_fc = nn.Linear(5*2*128, 512)\n",
        "\n",
        "    # Concat layer for the combined feature space\n",
        "    self.combined_fc1 = nn.Linear(640, 256)\n",
        "    self.combined_fc2 = nn.Linear(256, 128)\n",
        "    self.output_fc = nn.Linear(128, n_out)\n",
        "\n",
        "\n",
        "  def forward(self, lstm_inp, cnn_inp):\n",
        "    batch_size = lstm_inp.size(0)\n",
        "    hidden = self.init_hidden(batch_size)\n",
        "    lstm_inp = lstm_inp.long()\n",
        "    embeds = self.emb(lstm_inp)\n",
        "    lstm_out, hidden = self.lstm(embeds, hidden)\n",
        "    lstm_out = self.dropout(lstm_out[:, -1])\n",
        "    lstm_out = F.relu(self.lstm_fc(lstm_out))\n",
        "\n",
        "    x = F.relu(self.conv1(cnn_inp))\n",
        "    x = self.max_pool1(x)\n",
        "    x = F.relu(self.conv2(x))\n",
        "    x = self.max_pool2(x)\n",
        "    x = F.relu(self.conv3(x))\n",
        "    x = self.max_pool3(x)\n",
        "    x = F.relu(self.conv4(x))\n",
        "    x = self.max_pool4(x)\n",
        "    x = x.view(-1, 5*2*128)\n",
        "    x = self.cnn_dropout(x)\n",
        "    cnn_out = F.relu(self.cnn_fc(x))\n",
        "\n",
        "    combined_inp = torch.cat((cnn_out, lstm_out), 1)\n",
        "    x_comb = F.relu(self.combined_fc1(combined_inp))\n",
        "    x_comb = F.relu(self.combined_fc2(x_comb))\n",
        "    out = torch.sigmoid(self.output_fc(x_comb))\n",
        "\n",
        "    return out\n",
        "\n",
        "  def init_hidden(self, batch_size):\n",
        "    weight = next(self.parameters()).data\n",
        "    hidden = (weight.new(self.n_layers, batch_size, self.n_hidden).zero_().to(device),\n",
        "                      weight.new(self.n_layers, batch_size, self.n_hidden).zero_().to(device))\n",
        "    return hidden"
      ],
      "execution_count": 0,
      "outputs": []
    },
    {
      "cell_type": "markdown",
      "metadata": {
        "id": "tqBYNcUAQeft",
        "colab_type": "text"
      },
      "source": [
        "Defining the hyperparameters of the model along with defining the optimizer and loss function. Similar to Keras, the binary cross entropy loss is used. In order to fine tune the model, the embedding layer which has teh word2vec embedding is also trainable. This was done as a significant amount of words were not present in the word2vec vocab."
      ]
    },
    {
      "cell_type": "code",
      "metadata": {
        "id": "zgDIbdePA1PG",
        "colab_type": "code",
        "outputId": "b1a12734-a2f9-441c-fc53-79915c07e5a2",
        "colab": {
          "base_uri": "https://localhost:8080/",
          "height": 364
        }
      },
      "source": [
        "vocab_size = len(word_index)+1\n",
        "output_size = train_labels.shape[1]\n",
        "embedding_dim = 300\n",
        "hidden_dim = 64\n",
        "n_layers = 2\n",
        "print(output_size)\n",
        "\n",
        "model = CNN_LSTM(vocab_size, word2vec_embedding_matrix, hidden_dim, n_layers, output_size)\n",
        "model.to(device)\n",
        "print(model)\n",
        "\n",
        "lr=0.001\n",
        "# criterion = nn.MultiLabelSoftMarginLoss()\n",
        "criterion = nn.BCELoss()\n",
        "optimizer = torch.optim.Adam(model.parameters(), lr=lr, weight_decay=1e-5)"
      ],
      "execution_count": 0,
      "outputs": [
        {
          "output_type": "stream",
          "text": [
            "18\n",
            "CNN_LSTM(\n",
            "  (emb): Embedding(71020, 300)\n",
            "  (lstm): LSTM(300, 64, num_layers=2, batch_first=True, dropout=0.2)\n",
            "  (dropout): Dropout(p=0.1, inplace=False)\n",
            "  (lstm_fc): Linear(in_features=64, out_features=128, bias=True)\n",
            "  (conv1): Conv2d(3, 32, kernel_size=(3, 3), stride=(1, 1))\n",
            "  (max_pool1): MaxPool2d(kernel_size=2, stride=2, padding=0, dilation=1, ceil_mode=False)\n",
            "  (conv2): Conv2d(32, 64, kernel_size=(3, 3), stride=(1, 1))\n",
            "  (max_pool2): MaxPool2d(kernel_size=2, stride=2, padding=0, dilation=1, ceil_mode=False)\n",
            "  (conv3): Conv2d(64, 128, kernel_size=(3, 3), stride=(1, 1))\n",
            "  (max_pool3): MaxPool2d(kernel_size=2, stride=2, padding=0, dilation=1, ceil_mode=False)\n",
            "  (conv4): Conv2d(128, 128, kernel_size=(3, 3), stride=(1, 1))\n",
            "  (max_pool4): MaxPool2d(kernel_size=2, stride=2, padding=0, dilation=1, ceil_mode=False)\n",
            "  (cnn_dropout): Dropout(p=0.1, inplace=False)\n",
            "  (cnn_fc): Linear(in_features=1280, out_features=512, bias=True)\n",
            "  (combined_fc1): Linear(in_features=640, out_features=256, bias=True)\n",
            "  (combined_fc2): Linear(in_features=256, out_features=128, bias=True)\n",
            "  (output_fc): Linear(in_features=128, out_features=18, bias=True)\n",
            ")\n"
          ],
          "name": "stdout"
        }
      ]
    },
    {
      "cell_type": "markdown",
      "metadata": {
        "id": "3T9ZnJZiRa96",
        "colab_type": "text"
      },
      "source": [
        "Training and validation of the model. A batchsize of 64 is used to prevent an out of memory error."
      ]
    },
    {
      "cell_type": "code",
      "metadata": {
        "id": "EhP8OiwbCsqK",
        "colab_type": "code",
        "outputId": "bdde086c-e652-4d65-ae85-4e14c7e65308",
        "colab": {
          "base_uri": "https://localhost:8080/",
          "height": 711
        }
      },
      "source": [
        "epochs = 20\n",
        "clip = 5\n",
        "\n",
        "model.train()\n",
        "for i in range(epochs):\n",
        "  total_acc_train = 0\n",
        "  total_loss_train = 0\n",
        "    \n",
        "  for lstm, cnn in zip(text_train_loader, img_train_loader):\n",
        "    lstm_inp, lstm_labels = lstm\n",
        "    cnn_inp, cnn_labels = cnn\n",
        "    lstm_inp, lstm_labels = lstm_inp.to(device), lstm_labels.to(device)\n",
        "    cnn_inp, cnn_labels = cnn_inp.to(device), cnn_labels.to(device)\n",
        "    model.zero_grad()\n",
        "    output = model(lstm_inp, cnn_inp)\n",
        "    loss = criterion(output.squeeze(), lstm_labels.float())\n",
        "    loss.backward()\n",
        "    nn.utils.clip_grad_norm_(model.parameters(), clip)\n",
        "    optimizer.step()\n",
        "    \n",
        "    with torch.no_grad():\n",
        "      acc = torch.abs(output.squeeze() - lstm_labels.float()).view(-1)\n",
        "      acc = (1. - acc.sum() / acc.size()[0])\n",
        "      total_acc_train += acc\n",
        "      total_loss_train += loss.item()\n",
        "  \n",
        "  train_acc = total_acc_train/len(text_train_loader)\n",
        "  train_loss = total_loss_train/len(text_train_loader)\n",
        "  model.eval()\n",
        "  total_acc_val = 0\n",
        "  total_loss_val = 0\n",
        "  with torch.no_grad():\n",
        "    for lstm, cnn in zip(text_val_loader, img_val_loader):\n",
        "      lstm_inp, lstm_labels = lstm\n",
        "      cnn_inp, cnn_labels = cnn\n",
        "      lstm_inp, lstm_labels = lstm_inp.to(device), lstm_labels.to(device)\n",
        "      cnn_inp, cnn_labels = cnn_inp.to(device), cnn_labels.to(device)\n",
        "      model.zero_grad()\n",
        "      output = model(lstm_inp, cnn_inp)\n",
        "      val_loss = criterion(output.squeeze(), lstm_labels.float())\n",
        "      acc = torch.abs(output.squeeze() - lstm_labels.float()).view(-1)\n",
        "      acc = (1. - acc.sum() / acc.size()[0])\n",
        "      total_acc_val += acc\n",
        "      total_loss_val += val_loss.item()\n",
        "    print(\"Saving model...\") \n",
        "    torch.save(model.state_dict(), '/content/drive/My Drive/Movie_genre_prediction_dataset/pytorch_word2vec_lstm_less_dropout.pt')\n",
        "\n",
        "  val_acc = total_acc_val/len(text_val_loader)\n",
        "  val_loss = total_loss_val/len(text_val_loader)\n",
        "  print(f'Epoch {i+1}: train_loss: {train_loss:.4f} train_acc: {train_acc:.4f} | val_loss: {val_loss:.4f} val_acc: {val_acc:.4f}')\n",
        "  model.train()\n",
        "  torch.cuda.empty_cache()"
      ],
      "execution_count": 0,
      "outputs": [
        {
          "output_type": "stream",
          "text": [
            "Saving model...\n",
            "Epoch 1: train_loss: 0.3175 train_acc: 0.8131 | val_loss: 0.3025 val_acc: 0.8127\n",
            "Saving model...\n",
            "Epoch 2: train_loss: 0.2911 train_acc: 0.8280 | val_loss: 0.2851 val_acc: 0.8202\n",
            "Saving model...\n",
            "Epoch 3: train_loss: 0.2763 train_acc: 0.8351 | val_loss: 0.2770 val_acc: 0.8248\n",
            "Saving model...\n",
            "Epoch 4: train_loss: 0.2630 train_acc: 0.8414 | val_loss: 0.2709 val_acc: 0.8367\n",
            "Saving model...\n",
            "Epoch 5: train_loss: 0.2501 train_acc: 0.8487 | val_loss: 0.2667 val_acc: 0.8424\n",
            "Saving model...\n",
            "Epoch 6: train_loss: 0.2370 train_acc: 0.8568 | val_loss: 0.2679 val_acc: 0.8419\n",
            "Saving model...\n",
            "Epoch 7: train_loss: 0.2252 train_acc: 0.8646 | val_loss: 0.2665 val_acc: 0.8469\n",
            "Saving model...\n",
            "Epoch 8: train_loss: 0.2151 train_acc: 0.8712 | val_loss: 0.2693 val_acc: 0.8547\n",
            "Saving model...\n",
            "Epoch 9: train_loss: 0.2049 train_acc: 0.8776 | val_loss: 0.2696 val_acc: 0.8565\n",
            "Saving model...\n",
            "Epoch 10: train_loss: 0.1976 train_acc: 0.8821 | val_loss: 0.2805 val_acc: 0.8623\n",
            "Saving model...\n",
            "Epoch 11: train_loss: 0.1898 train_acc: 0.8863 | val_loss: 0.2920 val_acc: 0.8646\n",
            "Saving model...\n",
            "Epoch 12: train_loss: 0.1807 train_acc: 0.8918 | val_loss: 0.2841 val_acc: 0.8643\n",
            "Saving model...\n",
            "Epoch 13: train_loss: 0.1720 train_acc: 0.8969 | val_loss: 0.2929 val_acc: 0.8620\n",
            "Saving model...\n",
            "Epoch 14: train_loss: 0.1668 train_acc: 0.9001 | val_loss: 0.2972 val_acc: 0.8658\n",
            "Saving model...\n",
            "Epoch 15: train_loss: 0.1606 train_acc: 0.9036 | val_loss: 0.3030 val_acc: 0.8692\n",
            "Saving model...\n",
            "Epoch 16: train_loss: 0.1540 train_acc: 0.9078 | val_loss: 0.3093 val_acc: 0.8696\n",
            "Saving model...\n",
            "Epoch 17: train_loss: 0.1494 train_acc: 0.9108 | val_loss: 0.3028 val_acc: 0.8664\n",
            "Saving model...\n",
            "Epoch 18: train_loss: 0.1438 train_acc: 0.9141 | val_loss: 0.3018 val_acc: 0.8642\n",
            "Saving model...\n",
            "Epoch 19: train_loss: 0.1405 train_acc: 0.9162 | val_loss: 0.3174 val_acc: 0.8684\n",
            "Saving model...\n",
            "Epoch 20: train_loss: 0.1340 train_acc: 0.9200 | val_loss: 0.3431 val_acc: 0.8726\n"
          ],
          "name": "stdout"
        }
      ]
    },
    {
      "cell_type": "code",
      "metadata": {
        "id": "DSfwPxNfFjUe",
        "colab_type": "code",
        "colab": {}
      },
      "source": [
        "torch.save(model.state_dict(), '/content/drive/My Drive/Movie_genre_prediction_dataset/pytorch_word2vec_less_dropout.pt')"
      ],
      "execution_count": 0,
      "outputs": []
    },
    {
      "cell_type": "markdown",
      "metadata": {
        "id": "g2CHMjKpR493",
        "colab_type": "text"
      },
      "source": [
        "Testing the model"
      ]
    },
    {
      "cell_type": "code",
      "metadata": {
        "id": "TnM-Ti5502aW",
        "colab_type": "code",
        "outputId": "4f6d34ed-84ce-4335-cb9e-402a519b964d",
        "colab": {
          "base_uri": "https://localhost:8080/",
          "height": 35
        }
      },
      "source": [
        "model.eval()\n",
        "total_acc_test = 0\n",
        "total_loss_test = 0\n",
        "outputs = []\n",
        "with torch.no_grad():\n",
        "  for lstm, cnn in zip(text_test_loader, img_test_loader):\n",
        "    lstm_inp, lstm_labels = lstm\n",
        "    cnn_inp, cnn_labels = cnn\n",
        "    lstm_inp, lstm_labels = lstm_inp.to(device), lstm_labels.to(device)\n",
        "    cnn_inp, cnn_labels = cnn_inp.to(device), cnn_labels.to(device)\n",
        "    out = model(lstm_inp, cnn_inp)\n",
        "    outputs += list(out.cpu().data.numpy())\n",
        "    loss = criterion(out.squeeze(), lstm_labels.float())\n",
        "    acc = torch.abs(out.squeeze() - lstm_labels.float()).view(-1)\n",
        "    acc = (1. - acc.sum() / acc.size()[0])\n",
        "    total_acc_test += acc\n",
        "    total_loss_test += loss.item()\n",
        "\n",
        "acc_test = total_acc_test/len(text_test_loader)\n",
        "loss_test = total_loss_test/len(text_test_loader)\n",
        "print(f'acc: {acc_test:.4f} loss: {loss_test:.4f}')"
      ],
      "execution_count": 0,
      "outputs": [
        {
          "output_type": "stream",
          "text": [
            "acc: 0.8737 loss: 0.3406\n"
          ],
          "name": "stdout"
        }
      ]
    },
    {
      "cell_type": "code",
      "metadata": {
        "id": "b9vc4cNgoDnh",
        "colab_type": "code",
        "colab": {}
      },
      "source": [
        "np_out = np.array(outputs)"
      ],
      "execution_count": 0,
      "outputs": []
    },
    {
      "cell_type": "code",
      "metadata": {
        "id": "jJblQQP9xt37",
        "colab_type": "code",
        "colab": {}
      },
      "source": [
        "y_pred = np.zeros(np_out.shape)\n",
        "y_pred[np_out>0.5]=1\n",
        "y_pred = np.array(y_pred)"
      ],
      "execution_count": 0,
      "outputs": []
    },
    {
      "cell_type": "code",
      "metadata": {
        "id": "eTOzon-YooUA",
        "colab_type": "code",
        "outputId": "ffe59e74-640b-428b-d035-7bee202d897a",
        "colab": {
          "base_uri": "https://localhost:8080/",
          "height": 159
        }
      },
      "source": [
        "print(recall_score(test_labels, y_pred, average=\"samples\"))\n",
        "print(precision_score(test_labels, y_pred, average=\"samples\"))\n",
        "print(f1_score(test_labels, y_pred, average=\"samples\"))\n",
        "print(hamming_loss(test_labels, y_pred))\n",
        "print(accuracy_score(test_labels, y_pred))"
      ],
      "execution_count": 0,
      "outputs": [
        {
          "output_type": "stream",
          "text": [
            "0.5210588107680431\n",
            "0.5731609272410558\n",
            "0.508094536219955\n",
            "0.10782824899132014\n",
            "0.1654830497119121\n"
          ],
          "name": "stdout"
        },
        {
          "output_type": "stream",
          "text": [
            "/usr/local/lib/python3.6/dist-packages/sklearn/metrics/_classification.py:1272: UndefinedMetricWarning: Precision is ill-defined and being set to 0.0 in samples with no predicted labels. Use `zero_division` parameter to control this behavior.\n",
            "  _warn_prf(average, modifier, msg_start, len(result))\n"
          ],
          "name": "stderr"
        }
      ]
    },
    {
      "cell_type": "code",
      "metadata": {
        "id": "CLD9B8vpqsgv",
        "colab_type": "code",
        "outputId": "9c7fdf7d-13d6-4fa2-924f-2ea7f036ffc8",
        "colab": {
          "base_uri": "https://localhost:8080/",
          "height": 35
        }
      },
      "source": [
        "roc_auc = roc_auc_score(test_labels, np_out)\n",
        "print(roc_auc)"
      ],
      "execution_count": 0,
      "outputs": [
        {
          "output_type": "stream",
          "text": [
            "0.8021169393170184\n"
          ],
          "name": "stdout"
        }
      ]
    },
    {
      "cell_type": "code",
      "metadata": {
        "id": "QFakAuRGpbgK",
        "colab_type": "code",
        "outputId": "37a5d086-e96a-4684-9c39-12bdc4aaaa2f",
        "colab": {
          "base_uri": "https://localhost:8080/",
          "height": 52
        }
      },
      "source": [
        "from sklearn.metrics import matthews_corrcoef\n",
        "y_test = test_labels\n",
        "y_pred = np.zeros(np_out.shape)\n",
        "y_pred = np.array(y_pred) \n",
        "threshold = np.arange(0.01, 0.90, 0.10)\n",
        "\n",
        "acc = []\n",
        "accuracies = []\n",
        "best_threshold = np.zeros(np_out.shape[1])\n",
        "for i in range(np_out.shape[1]):\n",
        "  y_prob = np.array(np_out[:,i])\n",
        "  for j in threshold:\n",
        "    y_pred = [1 if prob>=j else 0 for prob in y_prob]\n",
        "    y_pred = np.array(y_pred)\n",
        "    mcc = matthews_corrcoef(y_test[:, i], y_pred)\n",
        "    acc.append(mcc)\n",
        "  acc   = np.array(acc)\n",
        "  index = np.where(acc==acc.max())\n",
        "  accuracies.append(acc.max())\n",
        "  best_threshold[i] = threshold[index[0][0]]\n",
        "  acc = []\n",
        "\n",
        "y_pred = np.array([[1 if np_out[i,j]>=best_threshold[j] else 0 for j in range(test_labels.shape[1])] for i in range(len(test_labels))])   "
      ],
      "execution_count": 0,
      "outputs": [
        {
          "output_type": "stream",
          "text": [
            "/usr/local/lib/python3.6/dist-packages/sklearn/metrics/_classification.py:900: RuntimeWarning: invalid value encountered in double_scalars\n",
            "  mcc = cov_ytyp / np.sqrt(cov_ytyt * cov_ypyp)\n"
          ],
          "name": "stderr"
        }
      ]
    },
    {
      "cell_type": "code",
      "metadata": {
        "id": "jsia01MExS06",
        "colab_type": "code",
        "colab": {}
      },
      "source": [
        "preds = np.transpose(y_pred)\n",
        "labels = np.transpose(test_labels)"
      ],
      "execution_count": 0,
      "outputs": []
    },
    {
      "cell_type": "code",
      "metadata": {
        "id": "fPb-9QTbw0Pd",
        "colab_type": "code",
        "outputId": "a8a2cb48-820c-438a-c2b7-df167b82d611",
        "colab": {
          "base_uri": "https://localhost:8080/",
          "height": 1000
        }
      },
      "source": [
        "from mlxtend.plotting import plot_confusion_matrix\n",
        "from sklearn.metrics import confusion_matrix\n",
        "\n",
        "accuracy_per_class = []\n",
        "precision_per_class = []\n",
        "recall_per_class = []\n",
        "f1_per_class = []\n",
        "classes = list(mlb.classes_)\n",
        "for i in range(labels.shape[0]):\n",
        "  # print(len(labels[i, :]), len(preds[i, :]))\n",
        "  accuracy_per_class.append(accuracy_score(labels[i, :], preds[i, :]))\n",
        "  precision_per_class.append(precision_score(labels[i, :], preds[i, :]))\n",
        "  recall_per_class.append(recall_score(labels[i, :], preds[i, :]))\n",
        "  f1_per_class.append(f1_score(labels[i, :], preds[i, :]))\n",
        "  print(classes[i])\n",
        "  print(\"accuracy:\", accuracy_per_class[i], \"precision:\", precision_per_class[i],\n",
        "        \"recall:\", recall_per_class[i], \"f1:\", f1_per_class[i])\n",
        "  cm  = confusion_matrix(labels[i, :], preds[i, :])\n",
        "  plt.figure()\n",
        "  plot_confusion_matrix(cm,figsize=(12,8), hide_ticks=True, cmap=plt.cm.Blues)\n",
        "  plt.xticks(range(2), ['1', '0'], fontsize=16)\n",
        "  plt.yticks(range(2), ['1', '0'], fontsize=16)\n",
        "  plt.show()"
      ],
      "execution_count": 0,
      "outputs": [
        {
          "output_type": "stream",
          "text": [
            "Action\n",
            "accuracy: 0.8187056143641968 precision: 0.4477707006369427 recall: 0.5912531539108494 f1: 0.5096049293222182\n"
          ],
          "name": "stdout"
        },
        {
          "output_type": "display_data",
          "data": {
            "text/plain": [
              "<Figure size 921.6x633.6 with 0 Axes>"
            ]
          },
          "metadata": {
            "tags": []
          }
        },
        {
          "output_type": "display_data",
          "data": {
            "image/png": "[encoded data removed]",
            "text/plain": [
              "<Figure size 864x576 with 1 Axes>"
            ]
          },
          "metadata": {
            "tags": []
          }
        },
        {
          "output_type": "stream",
          "text": [
            "Adventure\n",
            "accuracy: 0.8913305641163071 precision: 0.355 recall: 0.33437990580847726 f1: 0.34438156831042843\n"
          ],
          "name": "stdout"
        },
        {
          "output_type": "display_data",
          "data": {
            "text/plain": [
              "<Figure size 921.6x633.6 with 0 Axes>"
            ]
          },
          "metadata": {
            "tags": []
          }
        },
        {
          "output_type": "display_data",
          "data": {
            "image/png": "[encoded data removed]",
            "text/plain": [
              "<Figure size 864x576 with 1 Axes>"
            ]
          },
          "metadata": {
            "tags": []
          }
        },
        {
          "output_type": "stream",
          "text": [
            "Animation\n",
            "accuracy: 0.9244271740586896 precision: 0.31719532554257096 recall: 0.5507246376811594 f1: 0.4025423728813559\n"
          ],
          "name": "stdout"
        },
        {
          "output_type": "display_data",
          "data": {
            "text/plain": [
              "<Figure size 921.6x633.6 with 0 Axes>"
            ]
          },
          "metadata": {
            "tags": []
          }
        },
        {
          "output_type": "display_data",
          "data": {
            "image/png": "[encoded data removed]",
            "text/plain": [
              "<Figure size 864x576 with 1 Axes>"
            ]
          },
          "metadata": {
            "tags": []
          }
        },
        {
          "output_type": "stream",
          "text": [
            "Comedy\n",
            "accuracy: 0.7452766983786681 precision: 0.5772857728577285 recall: 0.6180860403863038 f1: 0.5969896120415518\n"
          ],
          "name": "stdout"
        },
        {
          "output_type": "display_data",
          "data": {
            "text/plain": [
              "<Figure size 921.6x633.6 with 0 Axes>"
            ]
          },
          "metadata": {
            "tags": []
          }
        },
        {
          "output_type": "display_data",
          "data": {
            "image/png": "[encoded data removed]",
            "text/plain": [
              "<Figure size 864x576 with 1 Axes>"
            ]
          },
          "metadata": {
            "tags": []
          }
        },
        {
          "output_type": "stream",
          "text": [
            "Crime\n",
            "accuracy: 0.8455044888114699 precision: 0.34295136026380874 recall: 0.538860103626943 f1: 0.41914357682619646\n"
          ],
          "name": "stdout"
        },
        {
          "output_type": "display_data",
          "data": {
            "text/plain": [
              "<Figure size 921.6x633.6 with 0 Axes>"
            ]
          },
          "metadata": {
            "tags": []
          }
        },
        {
          "output_type": "display_data",
          "data": {
            "image/png": "[encoded data removed]",
            "text/plain": [
              "<Figure size 864x576 with 1 Axes>"
            ]
          },
          "metadata": {
            "tags": []
          }
        },
        {
          "output_type": "stream",
          "text": [
            "Documentary\n",
            "accuracy: 0.9493501272946536 precision: 0.6536697247706422 recall: 0.556640625 f1: 0.6012658227848101\n"
          ],
          "name": "stdout"
        },
        {
          "output_type": "display_data",
          "data": {
            "text/plain": [
              "<Figure size 921.6x633.6 with 0 Axes>"
            ]
          },
          "metadata": {
            "tags": []
          }
        },
        {
          "output_type": "display_data",
          "data": {
            "image/png": "[encoded data removed]",
            "text/plain": [
              "<Figure size 864x576 with 1 Axes>"
            ]
          },
          "metadata": {
            "tags": []
          }
        },
        {
          "output_type": "stream",
          "text": [
            "Drama\n",
            "accuracy: 0.6733217204877395 precision: 0.708183776022972 recall: 0.5483602001111729 f1: 0.6181077694235589\n"
          ],
          "name": "stdout"
        },
        {
          "output_type": "display_data",
          "data": {
            "text/plain": [
              "<Figure size 921.6x633.6 with 0 Axes>"
            ]
          },
          "metadata": {
            "tags": []
          }
        },
        {
          "output_type": "display_data",
          "data": {
            "image/png": "[encoded data removed]",
            "text/plain": [
              "<Figure size 864x576 with 1 Axes>"
            ]
          },
          "metadata": {
            "tags": []
          }
        },
        {
          "output_type": "stream",
          "text": [
            "Family\n",
            "accuracy: 0.9193353879137076 precision: 0.43817787418655096 recall: 0.3706422018348624 f1: 0.4015904572564612\n"
          ],
          "name": "stdout"
        },
        {
          "output_type": "display_data",
          "data": {
            "text/plain": [
              "<Figure size 921.6x633.6 with 0 Axes>"
            ]
          },
          "metadata": {
            "tags": []
          }
        },
        {
          "output_type": "display_data",
          "data": {
            "image/png": "[encoded data removed]",
            "text/plain": [
              "<Figure size 864x576 with 1 Axes>"
            ]
          },
          "metadata": {
            "tags": []
          }
        },
        {
          "output_type": "stream",
          "text": [
            "Fantasy\n",
            "accuracy: 0.9173254723301622 precision: 0.2818181818181818 recall: 0.2917647058823529 f1: 0.28670520231213875\n"
          ],
          "name": "stdout"
        },
        {
          "output_type": "display_data",
          "data": {
            "text/plain": [
              "<Figure size 921.6x633.6 with 0 Axes>"
            ]
          },
          "metadata": {
            "tags": []
          }
        },
        {
          "output_type": "display_data",
          "data": {
            "image/png": "[encoded data removed]",
            "text/plain": [
              "<Figure size 864x576 with 1 Axes>"
            ]
          },
          "metadata": {
            "tags": []
          }
        },
        {
          "output_type": "stream",
          "text": [
            "History\n",
            "accuracy: 0.9308589039260351 precision: 0.19464720194647203 recall: 0.3018867924528302 f1: 0.2366863905325444\n"
          ],
          "name": "stdout"
        },
        {
          "output_type": "display_data",
          "data": {
            "text/plain": [
              "<Figure size 921.6x633.6 with 0 Axes>"
            ]
          },
          "metadata": {
            "tags": []
          }
        },
        {
          "output_type": "display_data",
          "data": {
            "image/png": "[encoded data removed]",
            "text/plain": [
              "<Figure size 864x576 with 1 Axes>"
            ]
          },
          "metadata": {
            "tags": []
          }
        },
        {
          "output_type": "stream",
          "text": [
            "Horror\n",
            "accuracy: 0.9082138550180893 precision: 0.5862068965517241 recall: 0.576969696969697 f1: 0.5815516188149054\n"
          ],
          "name": "stdout"
        },
        {
          "output_type": "display_data",
          "data": {
            "text/plain": [
              "<Figure size 921.6x633.6 with 0 Axes>"
            ]
          },
          "metadata": {
            "tags": []
          }
        },
        {
          "output_type": "display_data",
          "data": {
            "image/png": "[encoded data removed]",
            "text/plain": [
              "<Figure size 864x576 with 1 Axes>"
            ]
          },
          "metadata": {
            "tags": []
          }
        },
        {
          "output_type": "stream",
          "text": [
            "Music\n",
            "accuracy: 0.9584617446067265 precision: 0.3333333333333333 recall: 0.2109375 f1: 0.2583732057416268\n"
          ],
          "name": "stdout"
        },
        {
          "output_type": "display_data",
          "data": {
            "text/plain": [
              "<Figure size 921.6x633.6 with 0 Axes>"
            ]
          },
          "metadata": {
            "tags": []
          }
        },
        {
          "output_type": "display_data",
          "data": {
            "image/png": "[encoded data removed]",
            "text/plain": [
              "<Figure size 864x576 with 1 Axes>"
            ]
          },
          "metadata": {
            "tags": []
          }
        },
        {
          "output_type": "stream",
          "text": [
            "Mystery\n",
            "accuracy: 0.8752512394479431 precision: 0.22274881516587677 recall: 0.4060475161987041 f1: 0.287681713848508\n"
          ],
          "name": "stdout"
        },
        {
          "output_type": "display_data",
          "data": {
            "text/plain": [
              "<Figure size 921.6x633.6 with 0 Axes>"
            ]
          },
          "metadata": {
            "tags": []
          }
        },
        {
          "output_type": "display_data",
          "data": {
            "image/png": "[encoded data removed]",
            "text/plain": [
              "<Figure size 864x576 with 1 Axes>"
            ]
          },
          "metadata": {
            "tags": []
          }
        },
        {
          "output_type": "stream",
          "text": [
            "Romance\n",
            "accuracy: 0.8073160927241055 precision: 0.40562248995983935 recall: 0.4197838736492103 f1: 0.4125816993464052\n"
          ],
          "name": "stdout"
        },
        {
          "output_type": "display_data",
          "data": {
            "text/plain": [
              "<Figure size 921.6x633.6 with 0 Axes>"
            ]
          },
          "metadata": {
            "tags": []
          }
        },
        {
          "output_type": "display_data",
          "data": {
            "image/png": "[encoded data removed]",
            "text/plain": [
              "<Figure size 864x576 with 1 Axes>"
            ]
          },
          "metadata": {
            "tags": []
          }
        },
        {
          "output_type": "stream",
          "text": [
            "Science Fiction\n",
            "accuracy: 0.934476751976417 precision: 0.5643564356435643 recall: 0.4214417744916821 f1: 0.4825396825396825\n"
          ],
          "name": "stdout"
        },
        {
          "output_type": "display_data",
          "data": {
            "text/plain": [
              "<Figure size 921.6x633.6 with 0 Axes>"
            ]
          },
          "metadata": {
            "tags": []
          }
        },
        {
          "output_type": "display_data",
          "data": {
            "image/png": "[encoded data removed]",
            "text/plain": [
              "<Figure size 864x576 with 1 Axes>"
            ]
          },
          "metadata": {
            "tags": []
          }
        },
        {
          "output_type": "stream",
          "text": [
            "Thriller\n",
            "accuracy: 0.8074500870963419 precision: 0.48840291583830353 recall: 0.5256776034236804 f1: 0.5063552043971143\n"
          ],
          "name": "stdout"
        },
        {
          "output_type": "display_data",
          "data": {
            "text/plain": [
              "<Figure size 921.6x633.6 with 0 Axes>"
            ]
          },
          "metadata": {
            "tags": []
          }
        },
        {
          "output_type": "display_data",
          "data": {
            "image/png": "[encoded data removed]",
            "text/plain": [
              "<Figure size 864x576 with 1 Axes>"
            ]
          },
          "metadata": {
            "tags": []
          }
        },
        {
          "output_type": "stream",
          "text": [
            "War\n",
            "accuracy: 0.9537719415784537 precision: 0.32450331125827814 recall: 0.4100418410041841 f1: 0.3622920517560074\n"
          ],
          "name": "stdout"
        },
        {
          "output_type": "display_data",
          "data": {
            "text/plain": [
              "<Figure size 921.6x633.6 with 0 Axes>"
            ]
          },
          "metadata": {
            "tags": []
          }
        },
        {
          "output_type": "display_data",
          "data": {
            "image/png": "[encoded data removed]",
            "text/plain": [
              "<Figure size 864x576 with 1 Axes>"
            ]
          },
          "metadata": {
            "tags": []
          }
        },
        {
          "output_type": "stream",
          "text": [
            "Western\n",
            "accuracy: 0.9796328554200724 precision: 0.675 recall: 0.3 f1: 0.41538461538461535\n"
          ],
          "name": "stdout"
        },
        {
          "output_type": "display_data",
          "data": {
            "text/plain": [
              "<Figure size 921.6x633.6 with 0 Axes>"
            ]
          },
          "metadata": {
            "tags": []
          }
        },
        {
          "output_type": "display_data",
          "data": {
            "image/png": "[encoded data removed]",
            "text/plain": [
              "<Figure size 864x576 with 1 Axes>"
            ]
          },
          "metadata": {
            "tags": []
          }
        }
      ]
    },
    {
      "cell_type": "code",
      "metadata": {
        "id": "Xey7JjTnxBgK",
        "colab_type": "code",
        "outputId": "b6028be1-230e-46d7-aac2-8141e982d4a6",
        "colab": {
          "base_uri": "https://localhost:8080/",
          "height": 35
        }
      },
      "source": [
        "print(\"Acc:\", np.mean(accuracy_per_class), \"Precision:\", np.mean(precision_per_class), \"Recall:\",\n",
        "      np.mean(recall_per_class), \"f1:\", np.mean(f1_per_class))"
      ],
      "execution_count": 0,
      "outputs": [
        {
          "output_type": "stream",
          "text": [
            "Acc: 0.8800005955305433 Precision: 0.4398263397664883 Recall: 0.4429721206906727 f1: 0.4290987496400072\n"
          ],
          "name": "stdout"
        }
      ]
    },
    {
      "cell_type": "markdown",
      "metadata": {
        "id": "0OmhNFvRR-EE",
        "colab_type": "text"
      },
      "source": [
        "### Conclusion\n",
        "\n",
        "In conclusion, the fine-tuned Pytorch was able to outperform the baseline model. While looking at just the accruacy and loss of the model on the test set batches, the Keras baseline model does seem to outperform the fine tuned model. However, our primary evaluation metrics included ROC AUC score, hamming loss and the F1 score.\n",
        "\n",
        "| Model | Test acc and loss | ROC AUC score | F1, Recall and Precision | Hamming loss |\n",
        "| ----- | ----------------- | ------------- | ------------------------ | |\n",
        "|Keras baseline|0.8950, 0.2743|0.7563|0.4114, 0.3882, 0.5170|0.1050|\n",
        "|Pytorch fine tuned|0.8737, 0.3406|0.8021|0.5081, 0.5731, 0.5211|0.1078|\n",
        "\n",
        "\n",
        "---\n",
        "\n",
        "\n",
        "| Model | Avg acc per class | Avg F1 per class | Avg recall per class | Avg precision per class |\n",
        "| ----- | ----------------- | ---------------- | -------------------- | ------------------- |\n",
        "|Keras baseline|0.7467|0.3244|0.4804|0.3371|\n",
        "|Pytorch fine tuned|0.8800|0.4291|0.4430|0.4398|\n",
        "\n"
      ]
    }
  ]
}