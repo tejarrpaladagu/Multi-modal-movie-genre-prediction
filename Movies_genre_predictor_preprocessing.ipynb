{
  "nbformat": 4,
  "nbformat_minor": 0,
  "metadata": {
    "colab": {
      "name": "Movies_genre_predictor_preprocessing",
      "provenance": [],
      "collapsed_sections": [],
      "toc_visible": true,
      "machine_shape": "hm"
    },
    "kernelspec": {
      "name": "python3",
      "display_name": "Python 3"
    }
  },
  "cells": [
    {
      "cell_type": "markdown",
      "metadata": {
        "id": "Z_tTZ4hpcyyS",
        "colab_type": "text"
      },
      "source": [
        "# **Movie genre prediction using multi-modal deep learning - pre-processing data**\n",
        "\n",
        "This notebook involves downloading the dataset from kaggle and picking the relevant features to make the train, test and validation sets. It also involves downloading movie posters using the TMDB API."
      ]
    },
    {
      "cell_type": "code",
      "metadata": {
        "id": "6525C7bTmP-e",
        "colab_type": "code",
        "colab": {}
      },
      "source": [
        "!mkdir -p ~/.kaggle\n",
        "!cp kaggle.json ~/.kaggle/"
      ],
      "execution_count": 0,
      "outputs": []
    },
    {
      "cell_type": "code",
      "metadata": {
        "id": "YbqXGW_OmCMU",
        "colab_type": "code",
        "outputId": "0bc092b7-6e53-47e2-b547-7cbac079e96b",
        "colab": {
          "base_uri": "https://localhost:8080/",
          "height": 87
        }
      },
      "source": [
        "!kaggle datasets download -d rounakbanik/the-movies-dataset"
      ],
      "execution_count": 0,
      "outputs": [
        {
          "output_type": "stream",
          "text": [
            "Warning: Your Kaggle API key is readable by other users on this system! To fix this, you can run 'chmod 600 /root/.kaggle/kaggle.json'\n",
            "Downloading the-movies-dataset.zip to /content\n",
            " 92% 210M/228M [00:03<00:00, 49.5MB/s]\n",
            "100% 228M/228M [00:03<00:00, 65.0MB/s]\n"
          ],
          "name": "stdout"
        }
      ]
    },
    {
      "cell_type": "code",
      "metadata": {
        "id": "QmJgvc3_myB4",
        "colab_type": "code",
        "outputId": "54bd56f4-1b70-4c69-a9a1-a1b9017440ee",
        "colab": {
          "base_uri": "https://localhost:8080/",
          "height": 156
        }
      },
      "source": [
        "!unzip /content/the-movies-dataset.zip"
      ],
      "execution_count": 0,
      "outputs": [
        {
          "output_type": "stream",
          "text": [
            "Archive:  /content/the-movies-dataset.zip\n",
            "  inflating: credits.csv             \n",
            "  inflating: keywords.csv            \n",
            "  inflating: links.csv               \n",
            "  inflating: links_small.csv         \n",
            "  inflating: movies_metadata.csv     \n",
            "  inflating: ratings.csv             \n",
            "  inflating: ratings_small.csv       \n"
          ],
          "name": "stdout"
        }
      ]
    },
    {
      "cell_type": "code",
      "metadata": {
        "id": "4cwd2idTlvkk",
        "colab_type": "code",
        "outputId": "a5f71ba0-1c08-4441-b3ee-a15ebffe0f6c",
        "colab": {
          "base_uri": "https://localhost:8080/",
          "height": 72
        }
      },
      "source": [
        "import numpy as np\n",
        "import pandas as pd\n",
        "import matplotlib.pyplot as plt\n",
        "import seaborn as sns\n",
        "import matplotlib.style as style\n",
        "import ast"
      ],
      "execution_count": 0,
      "outputs": [
        {
          "output_type": "stream",
          "text": [
            "/usr/local/lib/python3.6/dist-packages/statsmodels/tools/_testing.py:19: FutureWarning: pandas.util.testing is deprecated. Use the functions in the public API at pandas.testing instead.\n",
            "  import pandas.util.testing as tm\n"
          ],
          "name": "stderr"
        }
      ]
    },
    {
      "cell_type": "code",
      "metadata": {
        "id": "vDQioFvo-unV",
        "colab_type": "code",
        "colab": {}
      },
      "source": [
        "style.use('seaborn-poster')\n",
        "style.use('ggplot')"
      ],
      "execution_count": 0,
      "outputs": []
    },
    {
      "cell_type": "code",
      "metadata": {
        "id": "KYpRe2FJm4SS",
        "colab_type": "code",
        "outputId": "bf363a0b-74ea-4f7e-c8c2-ec1907bac945",
        "colab": {
          "base_uri": "https://localhost:8080/",
          "height": 707
        }
      },
      "source": [
        "data = pd.read_csv(\"/content/movies_metadata.csv\")\n",
        "data.head()"
      ],
      "execution_count": 0,
      "outputs": [
        {
          "output_type": "stream",
          "text": [
            "/usr/local/lib/python3.6/dist-packages/IPython/core/interactiveshell.py:2718: DtypeWarning: Columns (10) have mixed types.Specify dtype option on import or set low_memory=False.\n",
            "  interactivity=interactivity, compiler=compiler, result=result)\n"
          ],
          "name": "stderr"
        },
        {
          "output_type": "execute_result",
          "data": {
            "text/html": [
              "<div>\n",
              "<style scoped>\n",
              "    .dataframe tbody tr th:only-of-type {\n",
              "        vertical-align: middle;\n",
              "    }\n",
              "\n",
              "    .dataframe tbody tr th {\n",
              "        vertical-align: top;\n",
              "    }\n",
              "\n",
              "    .dataframe thead th {\n",
              "        text-align: right;\n",
              "    }\n",
              "</style>\n",
              "<table border=\"1\" class=\"dataframe\">\n",
              "  <thead>\n",
              "    <tr style=\"text-align: right;\">\n",
              "      <th></th>\n",
              "      <th>adult</th>\n",
              "      <th>belongs_to_collection</th>\n",
              "      <th>budget</th>\n",
              "      <th>genres</th>\n",
              "      <th>homepage</th>\n",
              "      <th>id</th>\n",
              "      <th>imdb_id</th>\n",
              "      <th>original_language</th>\n",
              "      <th>original_title</th>\n",
              "      <th>overview</th>\n",
              "      <th>popularity</th>\n",
              "      <th>poster_path</th>\n",
              "      <th>production_companies</th>\n",
              "      <th>production_countries</th>\n",
              "      <th>release_date</th>\n",
              "      <th>revenue</th>\n",
              "      <th>runtime</th>\n",
              "      <th>spoken_languages</th>\n",
              "      <th>status</th>\n",
              "      <th>tagline</th>\n",
              "      <th>title</th>\n",
              "      <th>video</th>\n",
              "      <th>vote_average</th>\n",
              "      <th>vote_count</th>\n",
              "    </tr>\n",
              "  </thead>\n",
              "  <tbody>\n",
              "    <tr>\n",
              "      <th>0</th>\n",
              "      <td>False</td>\n",
              "      <td>{'id': 10194, 'name': 'Toy Story Collection', ...</td>\n",
              "      <td>30000000</td>\n",
              "      <td>[{'id': 16, 'name': 'Animation'}, {'id': 35, '...</td>\n",
              "      <td>http://toystory.disney.com/toy-story</td>\n",
              "      <td>862</td>\n",
              "      <td>tt0114709</td>\n",
              "      <td>en</td>\n",
              "      <td>Toy Story</td>\n",
              "      <td>Led by Woody, Andy's toys live happily in his ...</td>\n",
              "      <td>21.9469</td>\n",
              "      <td>/rhIRbceoE9lR4veEXuwCC2wARtG.jpg</td>\n",
              "      <td>[{'name': 'Pixar Animation Studios', 'id': 3}]</td>\n",
              "      <td>[{'iso_3166_1': 'US', 'name': 'United States o...</td>\n",
              "      <td>1995-10-30</td>\n",
              "      <td>373554033.0</td>\n",
              "      <td>81.0</td>\n",
              "      <td>[{'iso_639_1': 'en', 'name': 'English'}]</td>\n",
              "      <td>Released</td>\n",
              "      <td>NaN</td>\n",
              "      <td>Toy Story</td>\n",
              "      <td>False</td>\n",
              "      <td>7.7</td>\n",
              "      <td>5415.0</td>\n",
              "    </tr>\n",
              "    <tr>\n",
              "      <th>1</th>\n",
              "      <td>False</td>\n",
              "      <td>NaN</td>\n",
              "      <td>65000000</td>\n",
              "      <td>[{'id': 12, 'name': 'Adventure'}, {'id': 14, '...</td>\n",
              "      <td>NaN</td>\n",
              "      <td>8844</td>\n",
              "      <td>tt0113497</td>\n",
              "      <td>en</td>\n",
              "      <td>Jumanji</td>\n",
              "      <td>When siblings Judy and Peter discover an encha...</td>\n",
              "      <td>17.0155</td>\n",
              "      <td>/vzmL6fP7aPKNKPRTFnZmiUfciyV.jpg</td>\n",
              "      <td>[{'name': 'TriStar Pictures', 'id': 559}, {'na...</td>\n",
              "      <td>[{'iso_3166_1': 'US', 'name': 'United States o...</td>\n",
              "      <td>1995-12-15</td>\n",
              "      <td>262797249.0</td>\n",
              "      <td>104.0</td>\n",
              "      <td>[{'iso_639_1': 'en', 'name': 'English'}, {'iso...</td>\n",
              "      <td>Released</td>\n",
              "      <td>Roll the dice and unleash the excitement!</td>\n",
              "      <td>Jumanji</td>\n",
              "      <td>False</td>\n",
              "      <td>6.9</td>\n",
              "      <td>2413.0</td>\n",
              "    </tr>\n",
              "    <tr>\n",
              "      <th>2</th>\n",
              "      <td>False</td>\n",
              "      <td>{'id': 119050, 'name': 'Grumpy Old Men Collect...</td>\n",
              "      <td>0</td>\n",
              "      <td>[{'id': 10749, 'name': 'Romance'}, {'id': 35, ...</td>\n",
              "      <td>NaN</td>\n",
              "      <td>15602</td>\n",
              "      <td>tt0113228</td>\n",
              "      <td>en</td>\n",
              "      <td>Grumpier Old Men</td>\n",
              "      <td>A family wedding reignites the ancient feud be...</td>\n",
              "      <td>11.7129</td>\n",
              "      <td>/6ksm1sjKMFLbO7UY2i6G1ju9SML.jpg</td>\n",
              "      <td>[{'name': 'Warner Bros.', 'id': 6194}, {'name'...</td>\n",
              "      <td>[{'iso_3166_1': 'US', 'name': 'United States o...</td>\n",
              "      <td>1995-12-22</td>\n",
              "      <td>0.0</td>\n",
              "      <td>101.0</td>\n",
              "      <td>[{'iso_639_1': 'en', 'name': 'English'}]</td>\n",
              "      <td>Released</td>\n",
              "      <td>Still Yelling. Still Fighting. Still Ready for...</td>\n",
              "      <td>Grumpier Old Men</td>\n",
              "      <td>False</td>\n",
              "      <td>6.5</td>\n",
              "      <td>92.0</td>\n",
              "    </tr>\n",
              "    <tr>\n",
              "      <th>3</th>\n",
              "      <td>False</td>\n",
              "      <td>NaN</td>\n",
              "      <td>16000000</td>\n",
              "      <td>[{'id': 35, 'name': 'Comedy'}, {'id': 18, 'nam...</td>\n",
              "      <td>NaN</td>\n",
              "      <td>31357</td>\n",
              "      <td>tt0114885</td>\n",
              "      <td>en</td>\n",
              "      <td>Waiting to Exhale</td>\n",
              "      <td>Cheated on, mistreated and stepped on, the wom...</td>\n",
              "      <td>3.85949</td>\n",
              "      <td>/16XOMpEaLWkrcPqSQqhTmeJuqQl.jpg</td>\n",
              "      <td>[{'name': 'Twentieth Century Fox Film Corporat...</td>\n",
              "      <td>[{'iso_3166_1': 'US', 'name': 'United States o...</td>\n",
              "      <td>1995-12-22</td>\n",
              "      <td>81452156.0</td>\n",
              "      <td>127.0</td>\n",
              "      <td>[{'iso_639_1': 'en', 'name': 'English'}]</td>\n",
              "      <td>Released</td>\n",
              "      <td>Friends are the people who let you be yourself...</td>\n",
              "      <td>Waiting to Exhale</td>\n",
              "      <td>False</td>\n",
              "      <td>6.1</td>\n",
              "      <td>34.0</td>\n",
              "    </tr>\n",
              "    <tr>\n",
              "      <th>4</th>\n",
              "      <td>False</td>\n",
              "      <td>{'id': 96871, 'name': 'Father of the Bride Col...</td>\n",
              "      <td>0</td>\n",
              "      <td>[{'id': 35, 'name': 'Comedy'}]</td>\n",
              "      <td>NaN</td>\n",
              "      <td>11862</td>\n",
              "      <td>tt0113041</td>\n",
              "      <td>en</td>\n",
              "      <td>Father of the Bride Part II</td>\n",
              "      <td>Just when George Banks has recovered from his ...</td>\n",
              "      <td>8.38752</td>\n",
              "      <td>/e64sOI48hQXyru7naBFyssKFxVd.jpg</td>\n",
              "      <td>[{'name': 'Sandollar Productions', 'id': 5842}...</td>\n",
              "      <td>[{'iso_3166_1': 'US', 'name': 'United States o...</td>\n",
              "      <td>1995-02-10</td>\n",
              "      <td>76578911.0</td>\n",
              "      <td>106.0</td>\n",
              "      <td>[{'iso_639_1': 'en', 'name': 'English'}]</td>\n",
              "      <td>Released</td>\n",
              "      <td>Just When His World Is Back To Normal... He's ...</td>\n",
              "      <td>Father of the Bride Part II</td>\n",
              "      <td>False</td>\n",
              "      <td>5.7</td>\n",
              "      <td>173.0</td>\n",
              "    </tr>\n",
              "  </tbody>\n",
              "</table>\n",
              "</div>"
            ],
            "text/plain": [
              "   adult  ... vote_count\n",
              "0  False  ...     5415.0\n",
              "1  False  ...     2413.0\n",
              "2  False  ...       92.0\n",
              "3  False  ...       34.0\n",
              "4  False  ...      173.0\n",
              "\n",
              "[5 rows x 24 columns]"
            ]
          },
          "metadata": {
            "tags": []
          },
          "execution_count": 17
        }
      ]
    },
    {
      "cell_type": "markdown",
      "metadata": {
        "id": "_Tmv7Md5d7KQ",
        "colab_type": "text"
      },
      "source": [
        "Picking out the title, overview, genres and movie id from the original csv. The ID was picked to find the exact movie poster on TMDB to download."
      ]
    },
    {
      "cell_type": "code",
      "metadata": {
        "id": "ubqDzCf8nk0j",
        "colab_type": "code",
        "outputId": "b6c70da1-1ae4-4566-af86-a07db5178ca7",
        "colab": {
          "base_uri": "https://localhost:8080/",
          "height": 35
        }
      },
      "source": [
        "filtered_data = data.filter(['original_title','overview', 'id', 'genres'], axis=1)\n",
        "len(filtered_data)"
      ],
      "execution_count": 0,
      "outputs": [
        {
          "output_type": "execute_result",
          "data": {
            "text/plain": [
              "45466"
            ]
          },
          "metadata": {
            "tags": []
          },
          "execution_count": 18
        }
      ]
    },
    {
      "cell_type": "code",
      "metadata": {
        "id": "SUw97ecRoEDj",
        "colab_type": "code",
        "colab": {}
      },
      "source": [
        "genres = filtered_data['genres'].tolist()"
      ],
      "execution_count": 0,
      "outputs": []
    },
    {
      "cell_type": "markdown",
      "metadata": {
        "id": "O12YewwdhmXE",
        "colab_type": "text"
      },
      "source": [
        "Some genres seem to occur only once in the entire dataset. Hence, we remove those. In addition to this, genres like \"TV Movie\" and \"Foreign\" are not easily percieved from posters and movie summaries. Hence, those were removed as well."
      ]
    },
    {
      "cell_type": "code",
      "metadata": {
        "id": "8OXyLnPkoKVu",
        "colab_type": "code",
        "outputId": "a50bde90-b065-466c-83d9-e18161c484af",
        "colab": {
          "base_uri": "https://localhost:8080/",
          "height": 329
        }
      },
      "source": [
        "genre_per_movie = []\n",
        "genre_dict = {}\n",
        "invalid_genres = ['Aniplex', 'BROSTA TV', 'Carousel Productions', 'GoHands',\n",
        "                  'Mardock Scramble Production Committee', 'Odyssey Media',\n",
        "                  'Pulser Productions', 'Rogue State', 'Sentai Filmworks',\n",
        "                  'Telescene Film Group Productions', 'The Cartel', 'Vision View Entertainment', \n",
        "                  'TV Movie', 'Foreign']\n",
        "for genre in genres:\n",
        "  genre = ast.literal_eval(genre)\n",
        "  genre_list = []\n",
        "  for val in genre:\n",
        "    if val['name'] not in invalid_genres:\n",
        "      genre_list.append(val['name'])\n",
        "      if val['name'] in genre_dict:\n",
        "        genre_dict[val['name']] += 1\n",
        "      else:\n",
        "        genre_dict[val['name']] = 1\n",
        "  genre_per_movie.append(genre_list)\n",
        "\n",
        "genre_dict = {key:val for key, val in genre_dict.items() if val != 1}\n",
        "genre_dict"
      ],
      "execution_count": 0,
      "outputs": [
        {
          "output_type": "execute_result",
          "data": {
            "text/plain": [
              "{'Action': 6596,\n",
              " 'Adventure': 3496,\n",
              " 'Animation': 1935,\n",
              " 'Comedy': 13182,\n",
              " 'Crime': 4307,\n",
              " 'Documentary': 3932,\n",
              " 'Drama': 20265,\n",
              " 'Family': 2770,\n",
              " 'Fantasy': 2313,\n",
              " 'History': 1398,\n",
              " 'Horror': 4673,\n",
              " 'Music': 1598,\n",
              " 'Mystery': 2467,\n",
              " 'Romance': 6735,\n",
              " 'Science Fiction': 3049,\n",
              " 'Thriller': 7624,\n",
              " 'War': 1323,\n",
              " 'Western': 1042}"
            ]
          },
          "metadata": {
            "tags": []
          },
          "execution_count": 20
        }
      ]
    },
    {
      "cell_type": "code",
      "metadata": {
        "id": "xKPq0AEQdB0w",
        "colab_type": "code",
        "outputId": "5978f7ba-8dec-4c1e-dc7a-47a089913cd2",
        "colab": {
          "base_uri": "https://localhost:8080/",
          "height": 35
        }
      },
      "source": [
        "len(genre_per_movie)"
      ],
      "execution_count": 0,
      "outputs": [
        {
          "output_type": "execute_result",
          "data": {
            "text/plain": [
              "45466"
            ]
          },
          "metadata": {
            "tags": []
          },
          "execution_count": 21
        }
      ]
    },
    {
      "cell_type": "code",
      "metadata": {
        "id": "T2q1UWAm9xus",
        "colab_type": "code",
        "colab": {}
      },
      "source": [
        "keys = list(genre_dict.keys())\n",
        "values = list(genre_dict.values())"
      ],
      "execution_count": 0,
      "outputs": []
    },
    {
      "cell_type": "code",
      "metadata": {
        "id": "JHBCxqWO-i6w",
        "colab_type": "code",
        "outputId": "9096b388-b53d-46fb-d777-c2cda0ddb96d",
        "colab": {
          "base_uri": "https://localhost:8080/",
          "height": 692
        }
      },
      "source": [
        "plt.figure(figsize=(16, 9))\n",
        "sns.barplot(keys, values, palette=(\"Blues\"))\n",
        "plt.title(\"Most common genres\", size=30)\n",
        "plt.ylabel('Frequency of usage', size=30)\n",
        "plt.xlabel('Genres', size=30)\n",
        "plt.xticks(size=10)\n",
        "plt.xticks(rotation=45)\n",
        "plt.yticks(size=20)"
      ],
      "execution_count": 0,
      "outputs": [
        {
          "output_type": "execute_result",
          "data": {
            "text/plain": [
              "(array([    0.,  2500.,  5000.,  7500., 10000., 12500., 15000., 17500.,\n",
              "        20000., 22500.]), <a list of 10 Text major ticklabel objects>)"
            ]
          },
          "metadata": {
            "tags": []
          },
          "execution_count": 23
        },
        {
          "output_type": "display_data",
          "data": {
            "image/png": "[encoded data removed]",
            "text/plain": [
              "<Figure size 1152x648 with 1 Axes>"
            ]
          },
          "metadata": {
            "tags": []
          }
        }
      ]
    },
    {
      "cell_type": "code",
      "metadata": {
        "id": "QvnZJAC6DZog",
        "colab_type": "code",
        "outputId": "d7f0b053-985d-4716-f199-6bd6658bc90a",
        "colab": {
          "base_uri": "https://localhost:8080/",
          "height": 202
        }
      },
      "source": [
        "filtered_data['genre_list'] = genre_per_movie\n",
        "filtered_data.head()"
      ],
      "execution_count": 0,
      "outputs": [
        {
          "output_type": "execute_result",
          "data": {
            "text/html": [
              "<div>\n",
              "<style scoped>\n",
              "    .dataframe tbody tr th:only-of-type {\n",
              "        vertical-align: middle;\n",
              "    }\n",
              "\n",
              "    .dataframe tbody tr th {\n",
              "        vertical-align: top;\n",
              "    }\n",
              "\n",
              "    .dataframe thead th {\n",
              "        text-align: right;\n",
              "    }\n",
              "</style>\n",
              "<table border=\"1\" class=\"dataframe\">\n",
              "  <thead>\n",
              "    <tr style=\"text-align: right;\">\n",
              "      <th></th>\n",
              "      <th>original_title</th>\n",
              "      <th>overview</th>\n",
              "      <th>id</th>\n",
              "      <th>genres</th>\n",
              "      <th>genre_list</th>\n",
              "    </tr>\n",
              "  </thead>\n",
              "  <tbody>\n",
              "    <tr>\n",
              "      <th>0</th>\n",
              "      <td>Toy Story</td>\n",
              "      <td>Led by Woody, Andy's toys live happily in his ...</td>\n",
              "      <td>862</td>\n",
              "      <td>[{'id': 16, 'name': 'Animation'}, {'id': 35, '...</td>\n",
              "      <td>[Animation, Comedy, Family]</td>\n",
              "    </tr>\n",
              "    <tr>\n",
              "      <th>1</th>\n",
              "      <td>Jumanji</td>\n",
              "      <td>When siblings Judy and Peter discover an encha...</td>\n",
              "      <td>8844</td>\n",
              "      <td>[{'id': 12, 'name': 'Adventure'}, {'id': 14, '...</td>\n",
              "      <td>[Adventure, Fantasy, Family]</td>\n",
              "    </tr>\n",
              "    <tr>\n",
              "      <th>2</th>\n",
              "      <td>Grumpier Old Men</td>\n",
              "      <td>A family wedding reignites the ancient feud be...</td>\n",
              "      <td>15602</td>\n",
              "      <td>[{'id': 10749, 'name': 'Romance'}, {'id': 35, ...</td>\n",
              "      <td>[Romance, Comedy]</td>\n",
              "    </tr>\n",
              "    <tr>\n",
              "      <th>3</th>\n",
              "      <td>Waiting to Exhale</td>\n",
              "      <td>Cheated on, mistreated and stepped on, the wom...</td>\n",
              "      <td>31357</td>\n",
              "      <td>[{'id': 35, 'name': 'Comedy'}, {'id': 18, 'nam...</td>\n",
              "      <td>[Comedy, Drama, Romance]</td>\n",
              "    </tr>\n",
              "    <tr>\n",
              "      <th>4</th>\n",
              "      <td>Father of the Bride Part II</td>\n",
              "      <td>Just when George Banks has recovered from his ...</td>\n",
              "      <td>11862</td>\n",
              "      <td>[{'id': 35, 'name': 'Comedy'}]</td>\n",
              "      <td>[Comedy]</td>\n",
              "    </tr>\n",
              "  </tbody>\n",
              "</table>\n",
              "</div>"
            ],
            "text/plain": [
              "                original_title  ...                    genre_list\n",
              "0                    Toy Story  ...   [Animation, Comedy, Family]\n",
              "1                      Jumanji  ...  [Adventure, Fantasy, Family]\n",
              "2             Grumpier Old Men  ...             [Romance, Comedy]\n",
              "3            Waiting to Exhale  ...      [Comedy, Drama, Romance]\n",
              "4  Father of the Bride Part II  ...                      [Comedy]\n",
              "\n",
              "[5 rows x 5 columns]"
            ]
          },
          "metadata": {
            "tags": []
          },
          "execution_count": 24
        }
      ]
    },
    {
      "cell_type": "markdown",
      "metadata": {
        "id": "juwjZ8U5h91s",
        "colab_type": "text"
      },
      "source": [
        "Removing any rows where the genres column in empty\n"
      ]
    },
    {
      "cell_type": "code",
      "metadata": {
        "id": "uGGjQt89nG5c",
        "colab_type": "code",
        "outputId": "36377a8a-f3b1-4529-d441-982008893f66",
        "colab": {
          "base_uri": "https://localhost:8080/",
          "height": 35
        }
      },
      "source": [
        "filtered_data = filtered_data[filtered_data['genre_list'].map(lambda d: len(d)) > 0]\n",
        "len(filtered_data)"
      ],
      "execution_count": 0,
      "outputs": [
        {
          "output_type": "execute_result",
          "data": {
            "text/plain": [
              "42995"
            ]
          },
          "metadata": {
            "tags": []
          },
          "execution_count": 25
        }
      ]
    },
    {
      "cell_type": "code",
      "metadata": {
        "id": "XR5M3M5ri8SX",
        "colab_type": "code",
        "outputId": "f6bb87f7-685b-4879-ccb4-9fc086056357",
        "colab": {
          "base_uri": "https://localhost:8080/",
          "height": 35
        }
      },
      "source": [
        "total_empty = 0\n",
        "for genre in genre_per_movie:\n",
        "  if not len(genre):\n",
        "    total_empty += 1\n",
        "\n",
        "total_empty"
      ],
      "execution_count": 0,
      "outputs": [
        {
          "output_type": "execute_result",
          "data": {
            "text/plain": [
              "2471"
            ]
          },
          "metadata": {
            "tags": []
          },
          "execution_count": 27
        }
      ]
    },
    {
      "cell_type": "code",
      "metadata": {
        "id": "KkttCr5AtdHk",
        "colab_type": "code",
        "colab": {}
      },
      "source": [
        "from bs4 import BeautifulSoup\n",
        "import requests\n",
        "import os"
      ],
      "execution_count": 0,
      "outputs": []
    },
    {
      "cell_type": "markdown",
      "metadata": {
        "id": "VdupIyMXiEV3",
        "colab_type": "text"
      },
      "source": [
        "I used the tmdbv3api for Python to download posters."
      ]
    },
    {
      "cell_type": "code",
      "metadata": {
        "id": "eEmmkEF84rlM",
        "colab_type": "code",
        "outputId": "39f36ef4-c0be-403f-a70d-ea2102d7747f",
        "colab": {
          "base_uri": "https://localhost:8080/",
          "height": 193
        }
      },
      "source": [
        "!pip install tmdbv3api"
      ],
      "execution_count": 0,
      "outputs": [
        {
          "output_type": "stream",
          "text": [
            "Collecting tmdbv3api\n",
            "  Downloading https://files.pythonhosted.org/packages/4d/81/e2c88a1f8badcea1316a19be70b39f82eb845fa350cb2ea435c79c09435c/tmdbv3api-1.5.1-py2.py3-none-any.whl\n",
            "Requirement already satisfied: requests in /usr/local/lib/python3.6/dist-packages (from tmdbv3api) (2.23.0)\n",
            "Requirement already satisfied: urllib3!=1.25.0,!=1.25.1,<1.26,>=1.21.1 in /usr/local/lib/python3.6/dist-packages (from requests->tmdbv3api) (1.24.3)\n",
            "Requirement already satisfied: certifi>=2017.4.17 in /usr/local/lib/python3.6/dist-packages (from requests->tmdbv3api) (2020.4.5.1)\n",
            "Requirement already satisfied: idna<3,>=2.5 in /usr/local/lib/python3.6/dist-packages (from requests->tmdbv3api) (2.9)\n",
            "Requirement already satisfied: chardet<4,>=3.0.2 in /usr/local/lib/python3.6/dist-packages (from requests->tmdbv3api) (3.0.4)\n",
            "Installing collected packages: tmdbv3api\n",
            "Successfully installed tmdbv3api-1.5.1\n"
          ],
          "name": "stdout"
        }
      ]
    },
    {
      "cell_type": "code",
      "metadata": {
        "id": "AgiHbLiD4uTY",
        "colab_type": "code",
        "colab": {}
      },
      "source": [
        "from tmdbv3api import TMDb\n",
        "from tmdbv3api import Movie\n",
        "tmdb = TMDb()\n",
        "tmdb.api_key = 'Your API key'"
      ],
      "execution_count": 0,
      "outputs": []
    },
    {
      "cell_type": "markdown",
      "metadata": {
        "id": "lCqDOrkuiyqZ",
        "colab_type": "text"
      },
      "source": [
        "A utility function to download and save posters. In case the movie ID is not found or does not have a poster, an error is appended as the poster path. After all posters are downloaded the respective poster_paths are appended to the dataset."
      ]
    },
    {
      "cell_type": "code",
      "metadata": {
        "id": "81wCahR7tfbU",
        "colab_type": "code",
        "colab": {}
      },
      "source": [
        "def get_posters(url, name):\n",
        "  try:\n",
        "    baseurl = 'http://image.tmdb.org/t/p/w185'\n",
        "    link = baseurl + url\n",
        "    img = requests.get(link).content\n",
        "    name = name.replace('/', '_')\n",
        "    file_name = str(name) + \".jpg\"\n",
        "    path = os.path.join('/content/drive/My Drive/Movie_genre_prediction_dataset/downloaded_posters', file_name)\n",
        "    with open(path, 'wb') as handler:\n",
        "      handler.write(img)\n",
        "    return path\n",
        "  except Exception as e:\n",
        "    print('[ERROR]', str(e))\n",
        "    return \"Error\""
      ],
      "execution_count": 0,
      "outputs": []
    },
    {
      "cell_type": "code",
      "metadata": {
        "id": "9U5986uJ41_k",
        "colab_type": "code",
        "colab": {}
      },
      "source": [
        "poster_paths = []\n",
        "movie = Movie()\n",
        "\n",
        "i = 1\n",
        "for id, name in zip(filtered_data['id'].tolist(), filtered_data['original_title'].tolist()):\n",
        "  m = movie.details(int(id))\n",
        "  print('Downloading:', name, \"i\", i)\n",
        "  try:\n",
        "    poster_paths.append(get_posters(m.poster_path, name))\n",
        "  except Exception as e:\n",
        "    print('[ERROR]', str(e))\n",
        "    poster_paths.append(\"API Error\")\n",
        "  i += 1\n",
        "  # temp = name.replace('/', '_')\n",
        "  # file_name = str(temp) + \".jpg\"\n",
        "  # path = os.path.join('/content/drive/My Drive/Movie_genre_prediction_dataset/downloaded_posters', file_name)\n",
        "  # if '/' in name:\n",
        "  #   print(name)\n",
        "  #   print(\"Path:\", path)\n",
        "\n",
        "print(len(poster_paths))"
      ],
      "execution_count": 0,
      "outputs": []
    },
    {
      "cell_type": "code",
      "metadata": {
        "id": "zQuYExCJ9Q7U",
        "colab_type": "code",
        "outputId": "affd8fc4-7ad0-4533-f298-5dbfbf6a6ad0",
        "colab": {
          "base_uri": "https://localhost:8080/",
          "height": 289
        }
      },
      "source": [
        "filtered_data['poster_paths'] = poster_paths\n",
        "filtered_data.head()"
      ],
      "execution_count": 0,
      "outputs": [
        {
          "output_type": "execute_result",
          "data": {
            "text/html": [
              "<div>\n",
              "<style scoped>\n",
              "    .dataframe tbody tr th:only-of-type {\n",
              "        vertical-align: middle;\n",
              "    }\n",
              "\n",
              "    .dataframe tbody tr th {\n",
              "        vertical-align: top;\n",
              "    }\n",
              "\n",
              "    .dataframe thead th {\n",
              "        text-align: right;\n",
              "    }\n",
              "</style>\n",
              "<table border=\"1\" class=\"dataframe\">\n",
              "  <thead>\n",
              "    <tr style=\"text-align: right;\">\n",
              "      <th></th>\n",
              "      <th>original_title</th>\n",
              "      <th>overview</th>\n",
              "      <th>id</th>\n",
              "      <th>genres</th>\n",
              "      <th>genre_list</th>\n",
              "      <th>poster_paths</th>\n",
              "    </tr>\n",
              "  </thead>\n",
              "  <tbody>\n",
              "    <tr>\n",
              "      <th>0</th>\n",
              "      <td>Toy Story</td>\n",
              "      <td>Led by Woody, Andy's toys live happily in his ...</td>\n",
              "      <td>862</td>\n",
              "      <td>[{'id': 16, 'name': 'Animation'}, {'id': 35, '...</td>\n",
              "      <td>[Animation, Comedy, Family]</td>\n",
              "      <td>/content/drive/My Drive/Movie_genre_prediction...</td>\n",
              "    </tr>\n",
              "    <tr>\n",
              "      <th>1</th>\n",
              "      <td>Jumanji</td>\n",
              "      <td>When siblings Judy and Peter discover an encha...</td>\n",
              "      <td>8844</td>\n",
              "      <td>[{'id': 12, 'name': 'Adventure'}, {'id': 14, '...</td>\n",
              "      <td>[Adventure, Fantasy, Family]</td>\n",
              "      <td>/content/drive/My Drive/Movie_genre_prediction...</td>\n",
              "    </tr>\n",
              "    <tr>\n",
              "      <th>2</th>\n",
              "      <td>Grumpier Old Men</td>\n",
              "      <td>A family wedding reignites the ancient feud be...</td>\n",
              "      <td>15602</td>\n",
              "      <td>[{'id': 10749, 'name': 'Romance'}, {'id': 35, ...</td>\n",
              "      <td>[Romance, Comedy]</td>\n",
              "      <td>/content/drive/My Drive/Movie_genre_prediction...</td>\n",
              "    </tr>\n",
              "    <tr>\n",
              "      <th>3</th>\n",
              "      <td>Waiting to Exhale</td>\n",
              "      <td>Cheated on, mistreated and stepped on, the wom...</td>\n",
              "      <td>31357</td>\n",
              "      <td>[{'id': 35, 'name': 'Comedy'}, {'id': 18, 'nam...</td>\n",
              "      <td>[Comedy, Drama, Romance]</td>\n",
              "      <td>/content/drive/My Drive/Movie_genre_prediction...</td>\n",
              "    </tr>\n",
              "    <tr>\n",
              "      <th>4</th>\n",
              "      <td>Father of the Bride Part II</td>\n",
              "      <td>Just when George Banks has recovered from his ...</td>\n",
              "      <td>11862</td>\n",
              "      <td>[{'id': 35, 'name': 'Comedy'}]</td>\n",
              "      <td>[Comedy]</td>\n",
              "      <td>/content/drive/My Drive/Movie_genre_prediction...</td>\n",
              "    </tr>\n",
              "  </tbody>\n",
              "</table>\n",
              "</div>"
            ],
            "text/plain": [
              "                original_title  ...                                       poster_paths\n",
              "0                    Toy Story  ...  /content/drive/My Drive/Movie_genre_prediction...\n",
              "1                      Jumanji  ...  /content/drive/My Drive/Movie_genre_prediction...\n",
              "2             Grumpier Old Men  ...  /content/drive/My Drive/Movie_genre_prediction...\n",
              "3            Waiting to Exhale  ...  /content/drive/My Drive/Movie_genre_prediction...\n",
              "4  Father of the Bride Part II  ...  /content/drive/My Drive/Movie_genre_prediction...\n",
              "\n",
              "[5 rows x 6 columns]"
            ]
          },
          "metadata": {
            "tags": []
          },
          "execution_count": 42
        }
      ]
    },
    {
      "cell_type": "markdown",
      "metadata": {
        "id": "T6V1DTZUjVq2",
        "colab_type": "text"
      },
      "source": [
        "Removing all rows where the poster_paths are invalid."
      ]
    },
    {
      "cell_type": "code",
      "metadata": {
        "id": "1TkFJfweNHZh",
        "colab_type": "code",
        "outputId": "574b5ac5-df94-48a0-cb42-23b4e4897235",
        "colab": {
          "base_uri": "https://localhost:8080/",
          "height": 52
        }
      },
      "source": [
        "print(len(filtered_data))\n",
        "print(len(filtered_data[(filtered_data['poster_paths'] == \"API Error\") | (filtered_data['poster_paths'] == \"Error\")]))"
      ],
      "execution_count": 0,
      "outputs": [
        {
          "output_type": "stream",
          "text": [
            "42995\n",
            "5674\n"
          ],
          "name": "stdout"
        }
      ]
    },
    {
      "cell_type": "code",
      "metadata": {
        "id": "s7MqmUuwbueW",
        "colab_type": "code",
        "outputId": "7e383268-5311-4712-bc8e-d226f6fcc20d",
        "colab": {
          "base_uri": "https://localhost:8080/",
          "height": 35
        }
      },
      "source": [
        "filtered_data = filtered_data[filtered_data['poster_paths'] != \"API Error\"]\n",
        "print(len(filtered_data))"
      ],
      "execution_count": 0,
      "outputs": [
        {
          "output_type": "stream",
          "text": [
            "42682\n"
          ],
          "name": "stdout"
        }
      ]
    },
    {
      "cell_type": "code",
      "metadata": {
        "id": "fzmeotA3cP0I",
        "colab_type": "code",
        "outputId": "ebb2c9d2-fc2a-4a77-83f6-852ae98d99b0",
        "colab": {
          "base_uri": "https://localhost:8080/",
          "height": 35
        }
      },
      "source": [
        "filtered_data = filtered_data[filtered_data['poster_paths'] != \"Error\"]\n",
        "print(len(filtered_data))"
      ],
      "execution_count": 0,
      "outputs": [
        {
          "output_type": "stream",
          "text": [
            "37321\n"
          ],
          "name": "stdout"
        }
      ]
    },
    {
      "cell_type": "code",
      "metadata": {
        "id": "lfM0Z7fKNF4j",
        "colab_type": "code",
        "outputId": "963f4c73-8cde-42be-afbd-a52aea7057ec",
        "colab": {
          "base_uri": "https://localhost:8080/",
          "height": 289
        }
      },
      "source": [
        "filtered_data.head()"
      ],
      "execution_count": 0,
      "outputs": [
        {
          "output_type": "execute_result",
          "data": {
            "text/html": [
              "<div>\n",
              "<style scoped>\n",
              "    .dataframe tbody tr th:only-of-type {\n",
              "        vertical-align: middle;\n",
              "    }\n",
              "\n",
              "    .dataframe tbody tr th {\n",
              "        vertical-align: top;\n",
              "    }\n",
              "\n",
              "    .dataframe thead th {\n",
              "        text-align: right;\n",
              "    }\n",
              "</style>\n",
              "<table border=\"1\" class=\"dataframe\">\n",
              "  <thead>\n",
              "    <tr style=\"text-align: right;\">\n",
              "      <th></th>\n",
              "      <th>original_title</th>\n",
              "      <th>overview</th>\n",
              "      <th>id</th>\n",
              "      <th>genres</th>\n",
              "      <th>genre_list</th>\n",
              "      <th>poster_paths</th>\n",
              "    </tr>\n",
              "  </thead>\n",
              "  <tbody>\n",
              "    <tr>\n",
              "      <th>0</th>\n",
              "      <td>Toy Story</td>\n",
              "      <td>Led by Woody, Andy's toys live happily in his ...</td>\n",
              "      <td>862</td>\n",
              "      <td>[{'id': 16, 'name': 'Animation'}, {'id': 35, '...</td>\n",
              "      <td>[Animation, Comedy, Family]</td>\n",
              "      <td>/content/drive/My Drive/Movie_genre_prediction...</td>\n",
              "    </tr>\n",
              "    <tr>\n",
              "      <th>1</th>\n",
              "      <td>Jumanji</td>\n",
              "      <td>When siblings Judy and Peter discover an encha...</td>\n",
              "      <td>8844</td>\n",
              "      <td>[{'id': 12, 'name': 'Adventure'}, {'id': 14, '...</td>\n",
              "      <td>[Adventure, Fantasy, Family]</td>\n",
              "      <td>/content/drive/My Drive/Movie_genre_prediction...</td>\n",
              "    </tr>\n",
              "    <tr>\n",
              "      <th>2</th>\n",
              "      <td>Grumpier Old Men</td>\n",
              "      <td>A family wedding reignites the ancient feud be...</td>\n",
              "      <td>15602</td>\n",
              "      <td>[{'id': 10749, 'name': 'Romance'}, {'id': 35, ...</td>\n",
              "      <td>[Romance, Comedy]</td>\n",
              "      <td>/content/drive/My Drive/Movie_genre_prediction...</td>\n",
              "    </tr>\n",
              "    <tr>\n",
              "      <th>3</th>\n",
              "      <td>Waiting to Exhale</td>\n",
              "      <td>Cheated on, mistreated and stepped on, the wom...</td>\n",
              "      <td>31357</td>\n",
              "      <td>[{'id': 35, 'name': 'Comedy'}, {'id': 18, 'nam...</td>\n",
              "      <td>[Comedy, Drama, Romance]</td>\n",
              "      <td>/content/drive/My Drive/Movie_genre_prediction...</td>\n",
              "    </tr>\n",
              "    <tr>\n",
              "      <th>4</th>\n",
              "      <td>Father of the Bride Part II</td>\n",
              "      <td>Just when George Banks has recovered from his ...</td>\n",
              "      <td>11862</td>\n",
              "      <td>[{'id': 35, 'name': 'Comedy'}]</td>\n",
              "      <td>[Comedy]</td>\n",
              "      <td>/content/drive/My Drive/Movie_genre_prediction...</td>\n",
              "    </tr>\n",
              "  </tbody>\n",
              "</table>\n",
              "</div>"
            ],
            "text/plain": [
              "                original_title  ...                                       poster_paths\n",
              "0                    Toy Story  ...  /content/drive/My Drive/Movie_genre_prediction...\n",
              "1                      Jumanji  ...  /content/drive/My Drive/Movie_genre_prediction...\n",
              "2             Grumpier Old Men  ...  /content/drive/My Drive/Movie_genre_prediction...\n",
              "3            Waiting to Exhale  ...  /content/drive/My Drive/Movie_genre_prediction...\n",
              "4  Father of the Bride Part II  ...  /content/drive/My Drive/Movie_genre_prediction...\n",
              "\n",
              "[5 rows x 6 columns]"
            ]
          },
          "metadata": {
            "tags": []
          },
          "execution_count": 50
        }
      ]
    },
    {
      "cell_type": "code",
      "metadata": {
        "id": "TCvvJxI8eAwY",
        "colab_type": "code",
        "colab": {}
      },
      "source": [
        "filtered_data.to_csv(\"/content/drive/My Drive/Movie_genre_prediction_dataset/dataset_mod.csv\")"
      ],
      "execution_count": 0,
      "outputs": []
    },
    {
      "cell_type": "code",
      "metadata": {
        "id": "3eTw4HncNeeM",
        "colab_type": "code",
        "colab": {}
      },
      "source": [
        "filtered_data = pd.read_csv(\"/content/drive/My Drive/Movie_genre_prediction_dataset/dataset_mod.csv\")"
      ],
      "execution_count": 0,
      "outputs": []
    },
    {
      "cell_type": "code",
      "metadata": {
        "id": "NaupfDuDNj15",
        "colab_type": "code",
        "outputId": "2ac2a891-322f-4959-f4fc-0cbd9a5068c5",
        "colab": {
          "base_uri": "https://localhost:8080/",
          "height": 306
        }
      },
      "source": [
        "filtered_data.head()"
      ],
      "execution_count": 0,
      "outputs": [
        {
          "output_type": "execute_result",
          "data": {
            "text/html": [
              "<div>\n",
              "<style scoped>\n",
              "    .dataframe tbody tr th:only-of-type {\n",
              "        vertical-align: middle;\n",
              "    }\n",
              "\n",
              "    .dataframe tbody tr th {\n",
              "        vertical-align: top;\n",
              "    }\n",
              "\n",
              "    .dataframe thead th {\n",
              "        text-align: right;\n",
              "    }\n",
              "</style>\n",
              "<table border=\"1\" class=\"dataframe\">\n",
              "  <thead>\n",
              "    <tr style=\"text-align: right;\">\n",
              "      <th></th>\n",
              "      <th>Unnamed: 0</th>\n",
              "      <th>original_title</th>\n",
              "      <th>overview</th>\n",
              "      <th>id</th>\n",
              "      <th>genres</th>\n",
              "      <th>genre_list</th>\n",
              "      <th>poster_paths</th>\n",
              "    </tr>\n",
              "  </thead>\n",
              "  <tbody>\n",
              "    <tr>\n",
              "      <th>0</th>\n",
              "      <td>0</td>\n",
              "      <td>Toy Story</td>\n",
              "      <td>Led by Woody, Andy's toys live happily in his ...</td>\n",
              "      <td>862</td>\n",
              "      <td>[{'id': 16, 'name': 'Animation'}, {'id': 35, '...</td>\n",
              "      <td>['Animation', 'Comedy', 'Family']</td>\n",
              "      <td>/content/drive/My Drive/Movie_genre_prediction...</td>\n",
              "    </tr>\n",
              "    <tr>\n",
              "      <th>1</th>\n",
              "      <td>1</td>\n",
              "      <td>Jumanji</td>\n",
              "      <td>When siblings Judy and Peter discover an encha...</td>\n",
              "      <td>8844</td>\n",
              "      <td>[{'id': 12, 'name': 'Adventure'}, {'id': 14, '...</td>\n",
              "      <td>['Adventure', 'Fantasy', 'Family']</td>\n",
              "      <td>/content/drive/My Drive/Movie_genre_prediction...</td>\n",
              "    </tr>\n",
              "    <tr>\n",
              "      <th>2</th>\n",
              "      <td>2</td>\n",
              "      <td>Grumpier Old Men</td>\n",
              "      <td>A family wedding reignites the ancient feud be...</td>\n",
              "      <td>15602</td>\n",
              "      <td>[{'id': 10749, 'name': 'Romance'}, {'id': 35, ...</td>\n",
              "      <td>['Romance', 'Comedy']</td>\n",
              "      <td>/content/drive/My Drive/Movie_genre_prediction...</td>\n",
              "    </tr>\n",
              "    <tr>\n",
              "      <th>3</th>\n",
              "      <td>3</td>\n",
              "      <td>Waiting to Exhale</td>\n",
              "      <td>Cheated on, mistreated and stepped on, the wom...</td>\n",
              "      <td>31357</td>\n",
              "      <td>[{'id': 35, 'name': 'Comedy'}, {'id': 18, 'nam...</td>\n",
              "      <td>['Comedy', 'Drama', 'Romance']</td>\n",
              "      <td>/content/drive/My Drive/Movie_genre_prediction...</td>\n",
              "    </tr>\n",
              "    <tr>\n",
              "      <th>4</th>\n",
              "      <td>4</td>\n",
              "      <td>Father of the Bride Part II</td>\n",
              "      <td>Just when George Banks has recovered from his ...</td>\n",
              "      <td>11862</td>\n",
              "      <td>[{'id': 35, 'name': 'Comedy'}]</td>\n",
              "      <td>['Comedy']</td>\n",
              "      <td>/content/drive/My Drive/Movie_genre_prediction...</td>\n",
              "    </tr>\n",
              "  </tbody>\n",
              "</table>\n",
              "</div>"
            ],
            "text/plain": [
              "   Unnamed: 0  ...                                       poster_paths\n",
              "0           0  ...  /content/drive/My Drive/Movie_genre_prediction...\n",
              "1           1  ...  /content/drive/My Drive/Movie_genre_prediction...\n",
              "2           2  ...  /content/drive/My Drive/Movie_genre_prediction...\n",
              "3           3  ...  /content/drive/My Drive/Movie_genre_prediction...\n",
              "4           4  ...  /content/drive/My Drive/Movie_genre_prediction...\n",
              "\n",
              "[5 rows x 7 columns]"
            ]
          },
          "metadata": {
            "tags": []
          },
          "execution_count": 56
        }
      ]
    },
    {
      "cell_type": "markdown",
      "metadata": {
        "id": "PanPB50T9VfQ",
        "colab_type": "text"
      },
      "source": [
        "Splitting the data into training, testing and validation sets."
      ]
    },
    {
      "cell_type": "code",
      "metadata": {
        "id": "WsZoGVsUZ3IU",
        "colab_type": "code",
        "outputId": "df3ce64c-ee68-4284-b73f-525fac5c0507",
        "colab": {
          "base_uri": "https://localhost:8080/",
          "height": 35
        }
      },
      "source": [
        "from sklearn.model_selection import train_test_split\n",
        "\n",
        "train, test = train_test_split(filtered_data, test_size=0.2)\n",
        "train, val = train_test_split(train, test_size=0.1)\n",
        "print(type(train), type(test), type(val))"
      ],
      "execution_count": 0,
      "outputs": [
        {
          "output_type": "stream",
          "text": [
            "<class 'pandas.core.frame.DataFrame'> <class 'pandas.core.frame.DataFrame'> <class 'pandas.core.frame.DataFrame'>\n"
          ],
          "name": "stdout"
        }
      ]
    },
    {
      "cell_type": "code",
      "metadata": {
        "id": "ujvtit9TNwd1",
        "colab_type": "code",
        "colab": {}
      },
      "source": [
        "val.to_csv(\"/content/drive/My Drive/Movie_genre_prediction_dataset/val_data.csv\")\n",
        "test.to_csv(\"/content/drive/My Drive/Movie_genre_prediction_dataset/test_data.csv\")\n",
        "train.to_csv(\"/content/drive/My Drive/Movie_genre_prediction_dataset/train_data.csv\")"
      ],
      "execution_count": 0,
      "outputs": []
    },
    {
      "cell_type": "markdown",
      "metadata": {
        "id": "IxrOrv6o9buS",
        "colab_type": "text"
      },
      "source": [
        "### Downloading posters\n",
        "\n",
        "I used the TMBD API to download posters by searching for the movie using the movie ID given in the original database. All downloaded images are then read, resized and their pixels normalized between 0 and 1. Each image is then appended to a list. In case any images are not readable, those rows are dropped. The list of images obtained for the train, test and validation datasets are then saved as numpy arrays. This was done to easily load them later as an input to the model."
      ]
    },
    {
      "cell_type": "code",
      "metadata": {
        "id": "kVUoeoPoHvRK",
        "colab_type": "code",
        "colab": {}
      },
      "source": [
        "import cv2\n",
        "\n",
        "def resize_img(path):\n",
        "  try:\n",
        "    img = cv2.imread(path)\n",
        "    img = cv2.resize(img, (75, 115))\n",
        "    img = img.astype(np.float32)/255\n",
        "    return img\n",
        "  except Exception as e:\n",
        "    print(str(e))\n",
        "    return None"
      ],
      "execution_count": 0,
      "outputs": []
    },
    {
      "cell_type": "code",
      "metadata": {
        "id": "Ho7iCfBRLiCM",
        "colab_type": "code",
        "colab": {}
      },
      "source": [
        "val_imgs = []\n",
        "i = 0\n",
        "for index, row in val.iterrows():\n",
        "  if i%100 == 0:\n",
        "    print(\"Processing i:\", i, str(row['poster_paths']))\n",
        "  img = resize_img(str(row['poster_paths']))\n",
        "  if img is not None:\n",
        "    val_imgs.append(img)\n",
        "  else:\n",
        "    val = val.drop(index)\n",
        "    print(\"Dropping row:\", index, \"Length:\", len(val))\n",
        "  i += 1"
      ],
      "execution_count": 0,
      "outputs": []
    },
    {
      "cell_type": "code",
      "metadata": {
        "id": "4MMPPOy6byAY",
        "colab_type": "code",
        "colab": {}
      },
      "source": [
        "assert len(val) == len(val_imgs)"
      ],
      "execution_count": 0,
      "outputs": []
    },
    {
      "cell_type": "code",
      "metadata": {
        "id": "nWmGrxZdb4dy",
        "colab_type": "code",
        "outputId": "77962db2-80eb-405c-f86c-7f7f8e93f011",
        "colab": {
          "base_uri": "https://localhost:8080/",
          "height": 35
        }
      },
      "source": [
        "val_np_imgs = np.array(val_imgs)\n",
        "val_np_imgs.shape"
      ],
      "execution_count": 0,
      "outputs": [
        {
          "output_type": "execute_result",
          "data": {
            "text/plain": [
              "(2986, 115, 75, 3)"
            ]
          },
          "metadata": {
            "tags": []
          },
          "execution_count": 67
        }
      ]
    },
    {
      "cell_type": "code",
      "metadata": {
        "id": "gCk6EyIgd59b",
        "colab_type": "code",
        "colab": {}
      },
      "source": [
        "val.to_csv(\"/content/drive/My Drive/Movie_genre_prediction_dataset/val_data.csv\")"
      ],
      "execution_count": 0,
      "outputs": []
    },
    {
      "cell_type": "code",
      "metadata": {
        "id": "gkeEundWb7hq",
        "colab_type": "code",
        "colab": {}
      },
      "source": [
        "import pickle\n",
        "with open('/content/drive/My Drive/Movie_genre_prediction_dataset/val_np_img_norm','wb') as f: pickle.dump(val_np_imgs, f)"
      ],
      "execution_count": 0,
      "outputs": []
    },
    {
      "cell_type": "code",
      "metadata": {
        "id": "4CwMTGrMbJbn",
        "colab_type": "code",
        "colab": {}
      },
      "source": [
        "test_imgs = []\n",
        "i = 0\n",
        "for index, row in test.iterrows():\n",
        "  if i%100 == 0:\n",
        "    print(\"Processing i:\", i, str(row['poster_paths']))\n",
        "  img = resize_img(str(row['poster_paths']))\n",
        "  if img is not None:\n",
        "    test_imgs.append(img)\n",
        "  else:\n",
        "    test = test.drop(index)\n",
        "    print(\"Dropping row:\", index, \"Length:\", len(test))\n",
        "  i += 1"
      ],
      "execution_count": 0,
      "outputs": []
    },
    {
      "cell_type": "code",
      "metadata": {
        "id": "T7ZZq53Tby18",
        "colab_type": "code",
        "colab": {}
      },
      "source": [
        "assert len(test) == len(test_imgs)"
      ],
      "execution_count": 0,
      "outputs": []
    },
    {
      "cell_type": "code",
      "metadata": {
        "id": "quJDthv8cBqZ",
        "colab_type": "code",
        "outputId": "a94f31ea-b283-4eb3-c25f-58d783999b4b",
        "colab": {
          "base_uri": "https://localhost:8080/",
          "height": 35
        }
      },
      "source": [
        "test_np_imgs = np.array(test_imgs)\n",
        "test_np_imgs.shape"
      ],
      "execution_count": 0,
      "outputs": [
        {
          "output_type": "execute_result",
          "data": {
            "text/plain": [
              "(7463, 115, 75, 3)"
            ]
          },
          "metadata": {
            "tags": []
          },
          "execution_count": 72
        }
      ]
    },
    {
      "cell_type": "code",
      "metadata": {
        "id": "aYhZeoGteRSq",
        "colab_type": "code",
        "colab": {}
      },
      "source": [
        "test.to_csv(\"/content/drive/My Drive/Movie_genre_prediction_dataset/test_data.csv\")"
      ],
      "execution_count": 0,
      "outputs": []
    },
    {
      "cell_type": "code",
      "metadata": {
        "id": "jkR89MQlcB4-",
        "colab_type": "code",
        "colab": {}
      },
      "source": [
        "import pickle\n",
        "with open('/content/drive/My Drive/Movie_genre_prediction_dataset/test_np_imgs_norm','wb') as f: pickle.dump(test_np_imgs, f)"
      ],
      "execution_count": 0,
      "outputs": []
    },
    {
      "cell_type": "code",
      "metadata": {
        "id": "C8zMmPMsbZVX",
        "colab_type": "code",
        "colab": {}
      },
      "source": [
        "train_imgs = []\n",
        "i = 0\n",
        "for index, row in train.iterrows():\n",
        "  if i%100 == 0:\n",
        "    print(\"Processing i:\", i, str(row['poster_paths']))\n",
        "  img = resize_img(str(row['poster_paths']))\n",
        "  if img is not None:\n",
        "    train_imgs.append(img)\n",
        "  else:\n",
        "    train = train.drop(index)\n",
        "    print(\"Dropping row:\", index, \"Length:\", len(train))\n",
        "  i += 1"
      ],
      "execution_count": 0,
      "outputs": []
    },
    {
      "cell_type": "code",
      "metadata": {
        "id": "7U1D1Oz1ZqfW",
        "colab_type": "code",
        "colab": {}
      },
      "source": [
        "assert len(train) == len(train_imgs)"
      ],
      "execution_count": 0,
      "outputs": []
    },
    {
      "cell_type": "code",
      "metadata": {
        "id": "Mg25xsdQL62D",
        "colab_type": "code",
        "outputId": "b1b1c78f-c55d-4db1-91c1-8fe5749d524e",
        "colab": {
          "base_uri": "https://localhost:8080/",
          "height": 35
        }
      },
      "source": [
        "train_np_imgs = np.array(train_imgs)\n",
        "train_np_imgs.shape"
      ],
      "execution_count": 0,
      "outputs": [
        {
          "output_type": "execute_result",
          "data": {
            "text/plain": [
              "(26864, 115, 75, 3)"
            ]
          },
          "metadata": {
            "tags": []
          },
          "execution_count": 77
        }
      ]
    },
    {
      "cell_type": "code",
      "metadata": {
        "id": "nYFn517XeXxX",
        "colab_type": "code",
        "colab": {}
      },
      "source": [
        "train.to_csv(\"/content/drive/My Drive/Movie_genre_prediction_dataset/train_data.csv\")"
      ],
      "execution_count": 0,
      "outputs": []
    },
    {
      "cell_type": "code",
      "metadata": {
        "id": "5mYnLOy7wWp1",
        "colab_type": "code",
        "colab": {}
      },
      "source": [
        "import pickle\n",
        "with open('/content/drive/My Drive/Movie_genre_prediction_dataset/train_np_imgs_norm','wb') as f: pickle.dump(train_np_imgs, f)"
      ],
      "execution_count": 0,
      "outputs": []
    }
  ]
}